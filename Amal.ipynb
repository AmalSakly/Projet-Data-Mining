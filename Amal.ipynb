{
 "cells": [
  {
   "cell_type": "markdown",
   "metadata": {},
   "source": [
    "# <span style='background :burlywood' >Projet–Fouille de Données Thème: Classification des Tweets</span>\n",
    "  ##  <span style='color:dodgerblue'> Réalisé par:Sakly Amal(3DNIG1)</span>"
   ]
  },
  {
   "cell_type": "markdown",
   "metadata": {},
   "source": [
    "### <span style='color:mediumseagreen'> Objectifs</span>\n",
    "    •Maitrise de l’API de twitter pour l’extraction des tweets\n",
    "    •Maitrise de la partie NLP (naturallanguageprocessing) avec NLTK en Python\n",
    "    •Appliquer les principes de nettoyage des données\n",
    "    •Classer les tweets: regrouper ensemble les tweets qui sont similaires.\n",
    "       "
   ]
  },
  {
   "cell_type": "markdown",
   "metadata": {},
   "source": [
    "\n",
    "## Etape1: Extraction des données Twitter\n",
    "\n",
    "######  <span style='color:purple'> Importation de bibiliothèques:</span> \n",
    " <span style='background :yellow' >Tweepy</span> est un package Python open source qui vous offre un moyen très pratique d'accéder à l'API Twitter avec Python\n",
    " ######  <span style='color:purple'> Création d' une application Twitter:</span>\n",
    "Pour récupérer des tweets via l'API Twitter, j'ai accéder à au compte Twitter et j'ai créer une application, \n",
    "à partir de cette application ,j'ai obtenu \"Clé consommateur\", \"Secret consommateur\", \"Jeton d'accès\" et \"Secret du jeton d'accès\".Par la suite  on s'intèresse à l'authentification de nos clés.\n"
   ]
  },
  {
   "cell_type": "code",
   "execution_count": 2,
   "metadata": {},
   "outputs": [],
   "source": [
    "import pandas as pd\n",
    "import tweepy as tw\n",
    "import matplotlib.pyplot as plt\n",
    "\n",
    "%matplotlib inline\n",
    "\n",
    "consumer_key = \"U48AwY2nNBKlhRL3oLWuFOZaJ\" \n",
    "consumer_secret = \"MfaX5Ug3Kuo6Pj9B5UxMFgiixaPh1olB1svr1PInWZwM3ze7Zz\"\n",
    "access_token= \"1334795371537633281-lUcmoIP2Av73dlDNnQlbwWGbNy5Mqi\"\n",
    "access_token_secret = \"Jy5FyUq7eRjxzSPpWry7lUZFoU7hE95wf9cT9SYGsg1qm\"\n",
    "\n",
    "auth = tw.OAuthHandler(consumer_key, consumer_secret)\n",
    "auth.set_access_token(access_token, access_token_secret)\n",
    "api = tw.API(auth,wait_on_rate_limit=True,wait_on_rate_limit_notify=True, compression=True)"
   ]
  },
  {
   "cell_type": "markdown",
   "metadata": {},
   "source": [
    " ######  <span style='color:purple'> Collection de tweets:</span> "
   ]
  },
  {
   "cell_type": "markdown",
   "metadata": {},
   "source": [
    "Aprés la configuration de  l'API Twitter, j'ai extrait les tweets dans un tableau et par la suite les mettre dans un fichier csv"
   ]
  },
  {
   "cell_type": "code",
   "execution_count": 3,
   "metadata": {},
   "outputs": [],
   "source": [
    "#array =[]\n",
    "#tweets = tw.Cursor(api.search,q=\"#\",lang=\"en\",since=\"2020-12-13\").items(10000)\n",
    "#for tweet in tweets:\n",
    "    #print(tweet.id,tweet.user.screen_name,tweet.created_at,tweet.text)\n",
    "    #array.append([tweet.id,tweet.user.screen_name,tweet.created_at,tweet.text])\n",
    "    #df_t = pd.DataFrame(array).to_csv('amal.csv',index=False,header=['ID','User','Date','Tweet'])"
   ]
  },
  {
   "cell_type": "code",
   "execution_count": 4,
   "metadata": {},
   "outputs": [],
   "source": [
    "df_t = pd.read_csv('amal.csv')"
   ]
  },
  {
   "cell_type": "code",
   "execution_count": 5,
   "metadata": {},
   "outputs": [
    {
     "data": {
      "text/plain": [
       "(10000, 4)"
      ]
     },
     "execution_count": 5,
     "metadata": {},
     "output_type": "execute_result"
    }
   ],
   "source": [
    "df_t.shape"
   ]
  },
  {
   "cell_type": "code",
   "execution_count": 6,
   "metadata": {},
   "outputs": [
    {
     "data": {
      "text/html": [
       "<div>\n",
       "<style scoped>\n",
       "    .dataframe tbody tr th:only-of-type {\n",
       "        vertical-align: middle;\n",
       "    }\n",
       "\n",
       "    .dataframe tbody tr th {\n",
       "        vertical-align: top;\n",
       "    }\n",
       "\n",
       "    .dataframe thead th {\n",
       "        text-align: right;\n",
       "    }\n",
       "</style>\n",
       "<table border=\"1\" class=\"dataframe\">\n",
       "  <thead>\n",
       "    <tr style=\"text-align: right;\">\n",
       "      <th></th>\n",
       "      <th>ID</th>\n",
       "      <th>User</th>\n",
       "      <th>Date</th>\n",
       "      <th>Tweet</th>\n",
       "    </tr>\n",
       "  </thead>\n",
       "  <tbody>\n",
       "    <tr>\n",
       "      <th>0</th>\n",
       "      <td>1338243378073374720</td>\n",
       "      <td>dadarynov</td>\n",
       "      <td>2020-12-13 22:04:19</td>\n",
       "      <td>RT @MesutOzil1O88_: Need help @Arsenal? 😉❤\\n#Y...</td>\n",
       "    </tr>\n",
       "    <tr>\n",
       "      <th>1</th>\n",
       "      <td>1338243378027384834</td>\n",
       "      <td>kaltweiher</td>\n",
       "      <td>2020-12-13 22:04:19</td>\n",
       "      <td>RT @OaklandTowel: Move Abram to linebacker and...</td>\n",
       "    </tr>\n",
       "    <tr>\n",
       "      <th>2</th>\n",
       "      <td>1338243378002108416</td>\n",
       "      <td>malasadasbooks</td>\n",
       "      <td>2020-12-13 22:04:19</td>\n",
       "      <td>RT @TheRealHoarse: Stacey Abrams spent years s...</td>\n",
       "    </tr>\n",
       "    <tr>\n",
       "      <th>3</th>\n",
       "      <td>1338243377989640192</td>\n",
       "      <td>drizzle_wiener</td>\n",
       "      <td>2020-12-13 22:04:19</td>\n",
       "      <td>@Carolreboot @SL329TsMomA @deadeyebrakeman I k...</td>\n",
       "    </tr>\n",
       "    <tr>\n",
       "      <th>4</th>\n",
       "      <td>1338243377901481984</td>\n",
       "      <td>sznbnsl</td>\n",
       "      <td>2020-12-13 22:04:19</td>\n",
       "      <td>one person followed me // automatically checke...</td>\n",
       "    </tr>\n",
       "  </tbody>\n",
       "</table>\n",
       "</div>"
      ],
      "text/plain": [
       "                    ID            User                 Date  \\\n",
       "0  1338243378073374720       dadarynov  2020-12-13 22:04:19   \n",
       "1  1338243378027384834      kaltweiher  2020-12-13 22:04:19   \n",
       "2  1338243378002108416  malasadasbooks  2020-12-13 22:04:19   \n",
       "3  1338243377989640192  drizzle_wiener  2020-12-13 22:04:19   \n",
       "4  1338243377901481984         sznbnsl  2020-12-13 22:04:19   \n",
       "\n",
       "                                               Tweet  \n",
       "0  RT @MesutOzil1O88_: Need help @Arsenal? 😉❤\\n#Y...  \n",
       "1  RT @OaklandTowel: Move Abram to linebacker and...  \n",
       "2  RT @TheRealHoarse: Stacey Abrams spent years s...  \n",
       "3  @Carolreboot @SL329TsMomA @deadeyebrakeman I k...  \n",
       "4  one person followed me // automatically checke...  "
      ]
     },
     "execution_count": 6,
     "metadata": {},
     "output_type": "execute_result"
    }
   ],
   "source": [
    "df_t.head()"
   ]
  },
  {
   "cell_type": "markdown",
   "metadata": {},
   "source": [
    "\n",
    "## Etape2: Prétraitement des tweets"
   ]
  },
  {
   "cell_type": "markdown",
   "metadata": {},
   "source": [
    "##### Dans cette phase , on s'intèresse sur le nettoyage de données (nettoyer les données de la colonne Tweets). \n",
    "<span style='color:black'> Au départ, il faut  analyser les tweets et supprimer  le texte inutile des tweets tels que: les  Les poignées Twitter sont déjà masquées comme @user en raison de problèmes de confidentialité. Ainsi, ces poignées Twitter ne donnent pratiquement aucune information sur la nature du tweet.</span>\n",
    "\n",
    "<span style='color:purple'> On peut aussi penser à se débarrasser des ponctuations, des chiffres et même des caractères spéciaux puisqu'ils n'aideraient pas à différencier les différents types de tweets.J'ai essayé égalemnt de suprimmer les émojis,les les url et RT</span> \n",
    "\n"
   ]
  },
  {
   "cell_type": "code",
   "execution_count": 7,
   "metadata": {},
   "outputs": [],
   "source": [
    "\n",
    "import re\n",
    "from string import punctuation \n"
   ]
  },
  {
   "cell_type": "code",
   "execution_count": 8,
   "metadata": {},
   "outputs": [],
   "source": [
    "# \"cleans\" the text by removing hyperlinks, hashtags, mentions, and retweets\n",
    "# This function was suggested here: https://medium.com/better-programming/twitter-sentiment-analysis-15d8892c0082\n",
    "import string\n",
    "def cleanText(text):\n",
    "    text = text.lower() # Makes text lowercase\n",
    "    text  = \"\".join([char for char in text if char not in string.punctuation])\n",
    "    text = re.sub('https?:\\/\\/\\S+', '', text) # Removes hyperlinks\n",
    "    text = re.sub('#', '', text) # Removes hashtags\n",
    "    text = re.sub('@[A-Za-z0–9]+', '', text) # Removes mentions (@)\n",
    "    text = re.sub('RT[\\s]+', '', text) # Removes \"RT\"\n",
    "    text = re.sub('rt[\\s]+', '', text) # Removes \"RT\"\n",
    "    text = re.sub('[0-9]+', '', text)\n",
    "    emoji_pattern = re.compile(\"[\"\n",
    "                               u\"\\U0001F600-\\U0001F64F\"  # emoticons\n",
    "                               u\"\\U0001F300-\\U0001F5FF\"  # symbols & pictographs\n",
    "                               u\"\\U0001F680-\\U0001F6FF\"  # transport & map symbols\n",
    "                               u\"\\U0001F1E0-\\U0001F1FF\"  # flags (iOS)\n",
    "                               u\"\\U00002500-\\U00002BEF\"  # chinese char\n",
    "                               u\"\\U00002702-\\U000027B0\"\n",
    "                               u\"\\U00002702-\\U000027B0\"\n",
    "                               u\"\\U000024C2-\\U0001F251\"\n",
    "                               u\"\\U0001f926-\\U0001f937\"\n",
    "                               u\"\\U00010000-\\U0010ffff\"\n",
    "                               u\"\\u2640-\\u2642\"\n",
    "                               u\"\\u2600-\\u2B55\"\n",
    "                               u\"\\u200d\"\n",
    "                               u\"\\u23cf\"\n",
    "                               u\"\\u23e9\"\n",
    "                               u\"\\u231a\"\n",
    "                               u\"\\ufe0f\"  # dingbats\n",
    "                               u\"\\u3030\"\n",
    "                               \"]+\", flags=re.UNICODE)\n",
    "    text = re.sub(emoji_pattern, '', text)\n",
    "    return text"
   ]
  },
  {
   "cell_type": "markdown",
   "metadata": {},
   "source": [
    "## Etape3:Traitement des tweets: NLP (Natural LanguageProcessing)"
   ]
  },
  {
   "cell_type": "markdown",
   "metadata": {},
   "source": [
    "###### <span style='color:red'> Qu'est-ce que la NLP? </span>\n",
    "##### <span style='color:black'> Natural Language Processing(NLP): </span>\n",
    "fait partie de l'informatique et de l'intelligence artificielle qui traite des langues humaines.\n",
    "la NLP est un composant de l'exploration de texte qui effectue un type spécial d'analyse linguistique qui aide essentiellement  une machine à «lire» le texte . Il utilise une méthodologie différente pour <span style='color:green'> déchiffrer les ambiguïtés dans le langage humain.</span>\n",
    "\n",
    "----><span style='color:blue'>Tout d'abord, nous devons installer la bibliothèque NLTK qui est la boîte à outils en langage naturel"
   ]
  },
  {
   "cell_type": "code",
   "execution_count": 9,
   "metadata": {},
   "outputs": [
    {
     "name": "stderr",
     "output_type": "stream",
     "text": [
      "[nltk_data] Downloading package stopwords to\n",
      "[nltk_data]     C:\\Users\\LENOVO\\AppData\\Roaming\\nltk_data...\n",
      "[nltk_data]   Package stopwords is already up-to-date!\n",
      "[nltk_data] Downloading package punkt to\n",
      "[nltk_data]     C:\\Users\\LENOVO\\AppData\\Roaming\\nltk_data...\n",
      "[nltk_data]   Package punkt is already up-to-date!\n"
     ]
    },
    {
     "data": {
      "text/plain": [
       "True"
      ]
     },
     "execution_count": 9,
     "metadata": {},
     "output_type": "execute_result"
    }
   ],
   "source": [
    "import nltk\n",
    "from nltk.tokenize import word_tokenize\n",
    "from nltk.corpus import stopwords\n",
    "nltk.download('stopwords') \n",
    "nltk.download('punkt')"
   ]
  },
  {
   "cell_type": "markdown",
   "metadata": {},
   "source": [
    "### <span style='color:green'>Terminologies en NLP:</span>\n",
    "\n",
    "<span style='background :yellow' >Tokenisation:</span> est un package Python open source qui vous offre un moyen très pratique d'accéder à l'API Twitter avec Python La tokenisation est la première étape de la PNL. C'est le processus de rupture de chaînes en jetons qui sont à leur tour de petites structures ou unités. \n",
    "La tokenisation implique trois étapes qui consistent à décomposer une phrase complexe en mots, à comprendre l'importance de chaque mot par rapport à la phrase et enfin à produire une description structurelle sur une phrase d'entrée.\n",
    "#### <span style='color:blue'>Stop Words:</span>\n",
    "Lorsque on travaille sur des problèmes de traitement du langage naturel, il est important de réaliser que le processus ne doit pas consacrer ses efforts à traiter des mots tels que «le», «est», «là», etc. Ces mots sont connus comme des mots vides. Si les mots vides ne sont pas programmés pour être ignorés / supprimés.\n",
    "<span style='color:blue'>Le package NLTK contient un package distinct de mots vides qui peuvent être téléchargés. NLTK a des mots vides en 16 langues qui peuvent être téléchargés et utilisés. Une fois téléchargé, il peut être passé comme argument lui indiquant d'ignorer ces mots.</span>\n",
    "    \n",
    "    "
   ]
  },
  {
   "cell_type": "markdown",
   "metadata": {},
   "source": [
    "#### <span style='color:orange'>-----> Affichage  de la liste de tous les mots vides anglais pris en charge par NLTK</span>"
   ]
  },
  {
   "cell_type": "code",
   "execution_count": 10,
   "metadata": {},
   "outputs": [],
   "source": [
    "new_stopwords = set(stopwords.words('english') + list(punctuation) + ['AT_USER','URL'])"
   ]
  },
  {
   "cell_type": "code",
   "execution_count": 11,
   "metadata": {},
   "outputs": [
    {
     "name": "stdout",
     "output_type": "stream",
     "text": [
      "['i', 'me', 'my', 'myself', 'we', 'our', 'ours', 'ourselves', 'you', \"you're\", \"you've\", \"you'll\", \"you'd\", 'your', 'yours', 'yourself', 'yourselves', 'he', 'him', 'his', 'himself', 'she', \"she's\", 'her', 'hers', 'herself', 'it', \"it's\", 'its', 'itself', 'they', 'them', 'their', 'theirs', 'themselves', 'what', 'which', 'who', 'whom', 'this', 'that', \"that'll\", 'these', 'those', 'am', 'is', 'are', 'was', 'were', 'be', 'been', 'being', 'have', 'has', 'had', 'having', 'do', 'does', 'did', 'doing', 'a', 'an', 'the', 'and', 'but', 'if', 'or', 'because', 'as', 'until', 'while', 'of', 'at', 'by', 'for', 'with', 'about', 'against', 'between', 'into', 'through', 'during', 'before', 'after', 'above', 'below', 'to', 'from', 'up', 'down', 'in', 'out', 'on', 'off', 'over', 'under', 'again', 'further', 'then', 'once', 'here', 'there', 'when', 'where', 'why', 'how', 'all', 'any', 'both', 'each', 'few', 'more', 'most', 'other', 'some', 'such', 'no', 'nor', 'not', 'only', 'own', 'same', 'so', 'than', 'too', 'very', 's', 't', 'can', 'will', 'just', 'don', \"don't\", 'should', \"should've\", 'now', 'd', 'll', 'm', 'o', 're', 've', 'y', 'ain', 'aren', \"aren't\", 'couldn', \"couldn't\", 'didn', \"didn't\", 'doesn', \"doesn't\", 'hadn', \"hadn't\", 'hasn', \"hasn't\", 'haven', \"haven't\", 'isn', \"isn't\", 'ma', 'mightn', \"mightn't\", 'mustn', \"mustn't\", 'needn', \"needn't\", 'shan', \"shan't\", 'shouldn', \"shouldn't\", 'wasn', \"wasn't\", 'weren', \"weren't\", 'won', \"won't\", 'wouldn', \"wouldn't\"]\n"
     ]
    }
   ],
   "source": [
    "print(stopwords.words('english'))"
   ]
  },
  {
   "cell_type": "markdown",
   "metadata": {},
   "source": [
    "##### <span style='color:red'>On passe maintenant à tokeniser tous les tweets nettoyés de notre ensemble de données et suprimer les stopwords</span>"
   ]
  },
  {
   "cell_type": "code",
   "execution_count": 12,
   "metadata": {},
   "outputs": [],
   "source": [
    "def convertToList(text):\n",
    "    text = word_tokenize(text)\n",
    "    return [word for word in text if word not in new_stopwords] # Source for this line: https://towardsdatascience.com/creating-the-twitter-sentiment-analysis-program-in-python-with-naive-bayes-classification-672e5589a7ed"
   ]
  },
  {
   "cell_type": "code",
   "execution_count": 13,
   "metadata": {},
   "outputs": [],
   "source": [
    " # Source for this line: https://towardsdatascience.com/creating-the-twitter-sentiment-analysis-program-in-python-with-naive-bayes-classification-672e5589a7ed# Applys cleanText() to every Tweet in dataframe\n",
    "df_t[\"Tweet\"] = df_t[\"Tweet\"].apply(cleanText)\n",
    "df_t[\"List of Words\"] = df_t[\"Tweet\"].apply(convertToList)\n"
   ]
  },
  {
   "cell_type": "code",
   "execution_count": 14,
   "metadata": {},
   "outputs": [
    {
     "data": {
      "text/html": [
       "<div>\n",
       "<style scoped>\n",
       "    .dataframe tbody tr th:only-of-type {\n",
       "        vertical-align: middle;\n",
       "    }\n",
       "\n",
       "    .dataframe tbody tr th {\n",
       "        vertical-align: top;\n",
       "    }\n",
       "\n",
       "    .dataframe thead th {\n",
       "        text-align: right;\n",
       "    }\n",
       "</style>\n",
       "<table border=\"1\" class=\"dataframe\">\n",
       "  <thead>\n",
       "    <tr style=\"text-align: right;\">\n",
       "      <th></th>\n",
       "      <th>ID</th>\n",
       "      <th>User</th>\n",
       "      <th>Date</th>\n",
       "      <th>Tweet</th>\n",
       "      <th>List of Words</th>\n",
       "    </tr>\n",
       "  </thead>\n",
       "  <tbody>\n",
       "    <tr>\n",
       "      <th>0</th>\n",
       "      <td>1338243378073374720</td>\n",
       "      <td>dadarynov</td>\n",
       "      <td>2020-12-13 22:04:19</td>\n",
       "      <td>mesutozilo need help arsenal \\nyagunnersya</td>\n",
       "      <td>[mesutozilo, need, help, arsenal, yagunnersya]</td>\n",
       "    </tr>\n",
       "    <tr>\n",
       "      <th>1</th>\n",
       "      <td>1338243378027384834</td>\n",
       "      <td>kaltweiher</td>\n",
       "      <td>2020-12-13 22:04:19</td>\n",
       "      <td>oaklandtowel move abram to linebacker and brin...</td>\n",
       "      <td>[oaklandtowel, move, abram, linebacker, bring,...</td>\n",
       "    </tr>\n",
       "    <tr>\n",
       "      <th>2</th>\n",
       "      <td>1338243378002108416</td>\n",
       "      <td>malasadasbooks</td>\n",
       "      <td>2020-12-13 22:04:19</td>\n",
       "      <td>therealhoarse stacey abrams spent years saying...</td>\n",
       "      <td>[therealhoarse, stacey, abrams, spent, years, ...</td>\n",
       "    </tr>\n",
       "    <tr>\n",
       "      <th>3</th>\n",
       "      <td>1338243377989640192</td>\n",
       "      <td>drizzle_wiener</td>\n",
       "      <td>2020-12-13 22:04:19</td>\n",
       "      <td>carolreboot sltsmoma deadeyebrakeman i know at...</td>\n",
       "      <td>[carolreboot, sltsmoma, deadeyebrakeman, know,...</td>\n",
       "    </tr>\n",
       "    <tr>\n",
       "      <th>4</th>\n",
       "      <td>1338243377901481984</td>\n",
       "      <td>sznbnsl</td>\n",
       "      <td>2020-12-13 22:04:19</td>\n",
       "      <td>one person followed me  automatically checked ...</td>\n",
       "      <td>[one, person, followed, automatically, checked...</td>\n",
       "    </tr>\n",
       "  </tbody>\n",
       "</table>\n",
       "</div>"
      ],
      "text/plain": [
       "                    ID            User                 Date  \\\n",
       "0  1338243378073374720       dadarynov  2020-12-13 22:04:19   \n",
       "1  1338243378027384834      kaltweiher  2020-12-13 22:04:19   \n",
       "2  1338243378002108416  malasadasbooks  2020-12-13 22:04:19   \n",
       "3  1338243377989640192  drizzle_wiener  2020-12-13 22:04:19   \n",
       "4  1338243377901481984         sznbnsl  2020-12-13 22:04:19   \n",
       "\n",
       "                                               Tweet  \\\n",
       "0         mesutozilo need help arsenal \\nyagunnersya   \n",
       "1  oaklandtowel move abram to linebacker and brin...   \n",
       "2  therealhoarse stacey abrams spent years saying...   \n",
       "3  carolreboot sltsmoma deadeyebrakeman i know at...   \n",
       "4  one person followed me  automatically checked ...   \n",
       "\n",
       "                                       List of Words  \n",
       "0     [mesutozilo, need, help, arsenal, yagunnersya]  \n",
       "1  [oaklandtowel, move, abram, linebacker, bring,...  \n",
       "2  [therealhoarse, stacey, abrams, spent, years, ...  \n",
       "3  [carolreboot, sltsmoma, deadeyebrakeman, know,...  \n",
       "4  [one, person, followed, automatically, checked...  "
      ]
     },
     "execution_count": 14,
     "metadata": {},
     "output_type": "execute_result"
    }
   ],
   "source": [
    "df_t.head()"
   ]
  },
  {
   "cell_type": "code",
   "execution_count": 15,
   "metadata": {},
   "outputs": [
    {
     "data": {
      "text/plain": [
       "0       [mesutozilo, need, help, arsenal, yagunnersya]\n",
       "1    [oaklandtowel, move, abram, linebacker, bring,...\n",
       "2    [therealhoarse, stacey, abrams, spent, years, ...\n",
       "3    [carolreboot, sltsmoma, deadeyebrakeman, know,...\n",
       "4    [one, person, followed, automatically, checked...\n",
       "Name: List of Words, dtype: object"
      ]
     },
     "execution_count": 15,
     "metadata": {},
     "output_type": "execute_result"
    }
   ],
   "source": [
    "df_t[\"List of Words\"].head()"
   ]
  },
  {
   "cell_type": "markdown",
   "metadata": {},
   "source": [
    "#### <span style='background :magenta' > Stemming: </span> c'est le processus de réduction de l'inflexion des mots à leur forme racine, comme le mappage d'un groupe de mots sur la même racine, même si la racine elle-même n'est pas un mot valide dans la langue.\n",
    "<span style='background :pink'  >  - --> Le stemming est un processus basé sur des règles de suppression des suffixes («ing», «ly», «es», «s», etc.) d'un mot </span>"
   ]
  },
  {
   "cell_type": "code",
   "execution_count": 16,
   "metadata": {},
   "outputs": [
    {
     "data": {
      "text/html": [
       "<div>\n",
       "<style scoped>\n",
       "    .dataframe tbody tr th:only-of-type {\n",
       "        vertical-align: middle;\n",
       "    }\n",
       "\n",
       "    .dataframe tbody tr th {\n",
       "        vertical-align: top;\n",
       "    }\n",
       "\n",
       "    .dataframe thead th {\n",
       "        text-align: right;\n",
       "    }\n",
       "</style>\n",
       "<table border=\"1\" class=\"dataframe\">\n",
       "  <thead>\n",
       "    <tr style=\"text-align: right;\">\n",
       "      <th></th>\n",
       "      <th>ID</th>\n",
       "      <th>User</th>\n",
       "      <th>Date</th>\n",
       "      <th>Tweet</th>\n",
       "      <th>List of Words</th>\n",
       "      <th>Tweet_Stemmed</th>\n",
       "    </tr>\n",
       "  </thead>\n",
       "  <tbody>\n",
       "    <tr>\n",
       "      <th>0</th>\n",
       "      <td>1338243378073374720</td>\n",
       "      <td>dadarynov</td>\n",
       "      <td>2020-12-13 22:04:19</td>\n",
       "      <td>mesutozilo need help arsenal \\nyagunnersya</td>\n",
       "      <td>[mesutozilo, need, help, arsenal, yagunnersya]</td>\n",
       "      <td>[mesutozilo, need, help, arsen, yagunnersya]</td>\n",
       "    </tr>\n",
       "    <tr>\n",
       "      <th>1</th>\n",
       "      <td>1338243378027384834</td>\n",
       "      <td>kaltweiher</td>\n",
       "      <td>2020-12-13 22:04:19</td>\n",
       "      <td>oaklandtowel move abram to linebacker and brin...</td>\n",
       "      <td>[oaklandtowel, move, abram, linebacker, bring,...</td>\n",
       "      <td>[oaklandtowel, move, abram, lineback, bring, g...</td>\n",
       "    </tr>\n",
       "    <tr>\n",
       "      <th>2</th>\n",
       "      <td>1338243378002108416</td>\n",
       "      <td>malasadasbooks</td>\n",
       "      <td>2020-12-13 22:04:19</td>\n",
       "      <td>therealhoarse stacey abrams spent years saying...</td>\n",
       "      <td>[therealhoarse, stacey, abrams, spent, years, ...</td>\n",
       "      <td>[therealhoars, stacey, abram, spent, year, say...</td>\n",
       "    </tr>\n",
       "    <tr>\n",
       "      <th>3</th>\n",
       "      <td>1338243377989640192</td>\n",
       "      <td>drizzle_wiener</td>\n",
       "      <td>2020-12-13 22:04:19</td>\n",
       "      <td>carolreboot sltsmoma deadeyebrakeman i know at...</td>\n",
       "      <td>[carolreboot, sltsmoma, deadeyebrakeman, know,...</td>\n",
       "      <td>[carolreboot, sltsmoma, deadeyebrakeman, know,...</td>\n",
       "    </tr>\n",
       "    <tr>\n",
       "      <th>4</th>\n",
       "      <td>1338243377901481984</td>\n",
       "      <td>sznbnsl</td>\n",
       "      <td>2020-12-13 22:04:19</td>\n",
       "      <td>one person followed me  automatically checked ...</td>\n",
       "      <td>[one, person, followed, automatically, checked...</td>\n",
       "      <td>[one, person, follow, automat, check, httpstco...</td>\n",
       "    </tr>\n",
       "  </tbody>\n",
       "</table>\n",
       "</div>"
      ],
      "text/plain": [
       "                    ID            User                 Date  \\\n",
       "0  1338243378073374720       dadarynov  2020-12-13 22:04:19   \n",
       "1  1338243378027384834      kaltweiher  2020-12-13 22:04:19   \n",
       "2  1338243378002108416  malasadasbooks  2020-12-13 22:04:19   \n",
       "3  1338243377989640192  drizzle_wiener  2020-12-13 22:04:19   \n",
       "4  1338243377901481984         sznbnsl  2020-12-13 22:04:19   \n",
       "\n",
       "                                               Tweet  \\\n",
       "0         mesutozilo need help arsenal \\nyagunnersya   \n",
       "1  oaklandtowel move abram to linebacker and brin...   \n",
       "2  therealhoarse stacey abrams spent years saying...   \n",
       "3  carolreboot sltsmoma deadeyebrakeman i know at...   \n",
       "4  one person followed me  automatically checked ...   \n",
       "\n",
       "                                       List of Words  \\\n",
       "0     [mesutozilo, need, help, arsenal, yagunnersya]   \n",
       "1  [oaklandtowel, move, abram, linebacker, bring,...   \n",
       "2  [therealhoarse, stacey, abrams, spent, years, ...   \n",
       "3  [carolreboot, sltsmoma, deadeyebrakeman, know,...   \n",
       "4  [one, person, followed, automatically, checked...   \n",
       "\n",
       "                                       Tweet_Stemmed  \n",
       "0       [mesutozilo, need, help, arsen, yagunnersya]  \n",
       "1  [oaklandtowel, move, abram, lineback, bring, g...  \n",
       "2  [therealhoars, stacey, abram, spent, year, say...  \n",
       "3  [carolreboot, sltsmoma, deadeyebrakeman, know,...  \n",
       "4  [one, person, follow, automat, check, httpstco...  "
      ]
     },
     "execution_count": 16,
     "metadata": {},
     "output_type": "execute_result"
    }
   ],
   "source": [
    "\n",
    "import nltk\n",
    "ps = nltk.PorterStemmer()\n",
    "\n",
    "def stemming (text):\n",
    "    text = [ps.stem(word) for word in text]\n",
    "    return text\n",
    "\n",
    "df_t[\"Tweet_Stemmed\"] = df_t[\"List of Words\"].apply(lambda x: stemming(x))\n",
    "df_t.head()\n",
    "    "
   ]
  },
  {
   "cell_type": "markdown",
   "metadata": {},
   "source": [
    "#### <span style='background :magenta' > Lemmatisation : </span>  En termes plus simples, c'est le processus de conversion d'un mot dans sa forme de base.\n",
    "<span style='background :yellow'  > La différence entre le steeping  et la lemmatisation est que la lemmatisation considère le contexte et convertit le mot en sa forme de base significative, alors que la racine supprime simplement les derniers caractères, ce qui conduit souvent à des significations incorrectes "
   ]
  },
  {
   "cell_type": "code",
   "execution_count": null,
   "metadata": {},
   "outputs": [],
   "source": [
    "wn = nltk.WordNetLemmatizer()\n",
    "def lemmatize (text):\n",
    "    out_text = [wn.lemmatize(word) for word in text]\n",
    "    return out_text\n",
    "df_t[\"Tweet_lemmatized\"] = df_t[\"Tweet_Stemmed\"] .apply(lambda x: lemmatize(x))\n",
    "df_t.head()\n"
   ]
  },
  {
   "cell_type": "markdown",
   "metadata": {},
   "source": [
    "#### <span style='background :magenta' > Vectorisation:</span>\n",
    "<span style='background :pink'  > CountVectorizer: est un excellent outil fourni par la bibliothèque scikit-learn en Python. Il est utilisé pour transformer un texte donné en vecteur sur la base de la fréquence (nombre) de chaque mot qui apparaît dans tout le texte.</span>"
   ]
  },
  {
   "cell_type": "code",
   "execution_count": 18,
   "metadata": {},
   "outputs": [
    {
     "name": "stdout",
     "output_type": "stream",
     "text": [
      "(10000, 22862)\n"
     ]
    }
   ],
   "source": [
    "lemma_word=[]\n",
    "for i in range(0,df_t.shape[0]):\n",
    "    array=df_t['Tweet_lemmatized'][i]\n",
    "    array=' '.join(array)\n",
    "    lemma_word.append(array)\n",
    "\n",
    "from sklearn.feature_extraction.text import CountVectorizer\n",
    "Cvector = CountVectorizer()\n",
    "vector=Cvector.fit_transform(lemma_word)\n",
    "print(vector.shape)\n"
   ]
  }
 ],
 "metadata": {
  "kernelspec": {
   "display_name": "Python 3",
   "language": "python",
   "name": "python3"
  },
  "language_info": {
   "codemirror_mode": {
    "name": "ipython",
    "version": 3
   },
   "file_extension": ".py",
   "mimetype": "text/x-python",
   "name": "python",
   "nbconvert_exporter": "python",
   "pygments_lexer": "ipython3",
   "version": "3.8.3"
  }
 },
 "nbformat": 4,
 "nbformat_minor": 4
}
