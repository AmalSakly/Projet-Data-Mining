{
 "cells": [
  {
   "cell_type": "code",
   "execution_count": 52,
   "metadata": {
    "colab": {
     "base_uri": "https://localhost:8080/"
    },
    "id": "CMvojR67_u0B",
    "outputId": "4311df52-7e61-450a-8ca9-9889787cf084"
   },
   "outputs": [
    {
     "name": "stdout",
     "output_type": "stream",
     "text": [
      "[nltk_data] Downloading package stopwords to /root/nltk_data...\n",
      "[nltk_data]   Package stopwords is already up-to-date!\n",
      "[nltk_data] Downloading package wordnet to /root/nltk_data...\n",
      "[nltk_data]   Package wordnet is already up-to-date!\n"
     ]
    }
   ],
   "source": [
    "#importations\n",
    "import tweepy\n",
    "from tweepy import API\n",
    "from tweepy import OAuthHandler\n",
    "import pandas as pd\n",
    "import matplotlib.pyplot as plt\n",
    "import csv\n",
    "from nltk.tokenize import RegexpTokenizer, WhitespaceTokenizer\n",
    "from nltk.stem import WordNetLemmatizer\n",
    "import nltk\n",
    "nltk.download('stopwords')\n",
    "nltk.download('wordnet')\n",
    "from nltk.corpus import stopwords\n",
    "import string\n",
    "from string import punctuation\n",
    "import en_core_web_sm\n",
    "from sklearn.feature_extraction.text import TfidfVectorizer\n"
   ]
  },
  {
   "cell_type": "code",
   "execution_count": 53,
   "metadata": {
    "id": "sDP-0N_6_3ZT"
   },
   "outputs": [],
   "source": [
    "#definition des clés\n",
    "CONSUMER_KEY    = 'l0Ama9OIZYfUyJHWEo1TpDj0q'\n",
    "CONSUMER_SECRET = 'l3AIIGLyHfbczO1bpSS5KQqXZ8sMthGQRn9MzoikigkRhJX3tP'\n",
    "ACCESS_TOKEN  = '1328339246898434050-VkR8IxfpgSC4rLK37RbvADsdgAWpLd'\n",
    "ACCESS_SECRET = 'nHLrrrzXDIdD3pEEH7kzlnu9A9e1essHJb9IhO7swMkK4'\n",
    "\n",
    "#authentication\n",
    "auth = OAuthHandler(CONSUMER_KEY, CONSUMER_SECRET)\n",
    "auth.set_access_token(ACCESS_TOKEN, ACCESS_SECRET)\n",
    "#Configuration l'API importer de tweet\n",
    "api = tweepy.API(auth,wait_on_rate_limit=True)"
   ]
  },
  {
   "cell_type": "code",
   "execution_count": 54,
   "metadata": {
    "colab": {
     "base_uri": "https://localhost:8080/",
     "height": 374
    },
    "id": "2e0mqWNm_9kJ",
    "outputId": "0ac5d22d-10ec-45ce-8686-37d57417cec7"
   },
   "outputs": [
    {
     "ename": "KeyboardInterrupt",
     "evalue": "ignored",
     "output_type": "error",
     "traceback": [
      "\u001b[0;31m---------------------------------------------------------------------------\u001b[0m",
      "\u001b[0;31mKeyboardInterrupt\u001b[0m                         Traceback (most recent call last)",
      "\u001b[0;32m<ipython-input-54-b1a07b613a13>\u001b[0m in \u001b[0;36m<module>\u001b[0;34m()\u001b[0m\n\u001b[1;32m      4\u001b[0m     \u001b[0mFileTab\u001b[0m \u001b[0;34m=\u001b[0m \u001b[0mcsv\u001b[0m\u001b[0;34m.\u001b[0m\u001b[0mwriter\u001b[0m\u001b[0;34m(\u001b[0m\u001b[0mFile\u001b[0m\u001b[0;34m)\u001b[0m\u001b[0;34m\u001b[0m\u001b[0;34m\u001b[0m\u001b[0m\n\u001b[1;32m      5\u001b[0m     \u001b[0mFileTab\u001b[0m\u001b[0;34m.\u001b[0m\u001b[0mwriterow\u001b[0m\u001b[0;34m(\u001b[0m\u001b[0;34m[\u001b[0m\u001b[0;34m'Id'\u001b[0m\u001b[0;34m,\u001b[0m\u001b[0;34m'Tweet'\u001b[0m\u001b[0;34m,\u001b[0m\u001b[0;34m'Nom'\u001b[0m\u001b[0;34m]\u001b[0m\u001b[0;34m)\u001b[0m\u001b[0;34m\u001b[0m\u001b[0;34m\u001b[0m\u001b[0m\n\u001b[0;32m----> 6\u001b[0;31m     \u001b[0;32mfor\u001b[0m \u001b[0mtweet\u001b[0m \u001b[0;32min\u001b[0m \u001b[0mtweepy\u001b[0m\u001b[0;34m.\u001b[0m\u001b[0mCursor\u001b[0m\u001b[0;34m(\u001b[0m\u001b[0mapi\u001b[0m\u001b[0;34m.\u001b[0m\u001b[0msearch\u001b[0m\u001b[0;34m,\u001b[0m \u001b[0mq\u001b[0m\u001b[0;34m=\u001b[0m\u001b[0;34m'Politics'\u001b[0m\u001b[0;34m,\u001b[0m \u001b[0mlang\u001b[0m \u001b[0;34m=\u001b[0m \u001b[0;34m'en'\u001b[0m\u001b[0;34m)\u001b[0m\u001b[0;34m.\u001b[0m\u001b[0mitems\u001b[0m\u001b[0;34m(\u001b[0m\u001b[0;36m3000\u001b[0m\u001b[0;34m)\u001b[0m\u001b[0;34m:\u001b[0m\u001b[0;34m\u001b[0m\u001b[0;34m\u001b[0m\u001b[0m\n\u001b[0m\u001b[1;32m      7\u001b[0m         \u001b[0mtweets_encoded\u001b[0m \u001b[0;34m=\u001b[0m \u001b[0mtweet\u001b[0m\u001b[0;34m.\u001b[0m\u001b[0mtext\u001b[0m\u001b[0;34m.\u001b[0m\u001b[0mencode\u001b[0m\u001b[0;34m(\u001b[0m\u001b[0;34m'utf-8'\u001b[0m\u001b[0;34m)\u001b[0m\u001b[0;34m\u001b[0m\u001b[0;34m\u001b[0m\u001b[0m\n\u001b[1;32m      8\u001b[0m         \u001b[0mtweets_decoded\u001b[0m \u001b[0;34m=\u001b[0m \u001b[0mtweets_encoded\u001b[0m\u001b[0;34m.\u001b[0m\u001b[0mdecode\u001b[0m\u001b[0;34m(\u001b[0m\u001b[0;34m'utf-8'\u001b[0m\u001b[0;34m)\u001b[0m\u001b[0;34m\u001b[0m\u001b[0;34m\u001b[0m\u001b[0m\n",
      "\u001b[0;32m/usr/local/lib/python3.6/dist-packages/tweepy/cursor.py\u001b[0m in \u001b[0;36m__next__\u001b[0;34m(self)\u001b[0m\n\u001b[1;32m     47\u001b[0m \u001b[0;34m\u001b[0m\u001b[0m\n\u001b[1;32m     48\u001b[0m     \u001b[0;32mdef\u001b[0m \u001b[0m__next__\u001b[0m\u001b[0;34m(\u001b[0m\u001b[0mself\u001b[0m\u001b[0;34m)\u001b[0m\u001b[0;34m:\u001b[0m\u001b[0;34m\u001b[0m\u001b[0;34m\u001b[0m\u001b[0m\n\u001b[0;32m---> 49\u001b[0;31m         \u001b[0;32mreturn\u001b[0m \u001b[0mself\u001b[0m\u001b[0;34m.\u001b[0m\u001b[0mnext\u001b[0m\u001b[0;34m(\u001b[0m\u001b[0;34m)\u001b[0m\u001b[0;34m\u001b[0m\u001b[0;34m\u001b[0m\u001b[0m\n\u001b[0m\u001b[1;32m     50\u001b[0m \u001b[0;34m\u001b[0m\u001b[0m\n\u001b[1;32m     51\u001b[0m     \u001b[0;32mdef\u001b[0m \u001b[0mnext\u001b[0m\u001b[0;34m(\u001b[0m\u001b[0mself\u001b[0m\u001b[0;34m)\u001b[0m\u001b[0;34m:\u001b[0m\u001b[0;34m\u001b[0m\u001b[0;34m\u001b[0m\u001b[0m\n",
      "\u001b[0;32m/usr/local/lib/python3.6/dist-packages/tweepy/cursor.py\u001b[0m in \u001b[0;36mnext\u001b[0;34m(self)\u001b[0m\n\u001b[1;32m    195\u001b[0m         \u001b[0;32mif\u001b[0m \u001b[0mself\u001b[0m\u001b[0;34m.\u001b[0m\u001b[0mcurrent_page\u001b[0m \u001b[0;32mis\u001b[0m \u001b[0;32mNone\u001b[0m \u001b[0;32mor\u001b[0m \u001b[0mself\u001b[0m\u001b[0;34m.\u001b[0m\u001b[0mpage_index\u001b[0m \u001b[0;34m==\u001b[0m \u001b[0mlen\u001b[0m\u001b[0;34m(\u001b[0m\u001b[0mself\u001b[0m\u001b[0;34m.\u001b[0m\u001b[0mcurrent_page\u001b[0m\u001b[0;34m)\u001b[0m \u001b[0;34m-\u001b[0m \u001b[0;36m1\u001b[0m\u001b[0;34m:\u001b[0m\u001b[0;34m\u001b[0m\u001b[0;34m\u001b[0m\u001b[0m\n\u001b[1;32m    196\u001b[0m             \u001b[0;31m# Reached end of current page, get the next page...\u001b[0m\u001b[0;34m\u001b[0m\u001b[0;34m\u001b[0m\u001b[0;34m\u001b[0m\u001b[0m\n\u001b[0;32m--> 197\u001b[0;31m             \u001b[0mself\u001b[0m\u001b[0;34m.\u001b[0m\u001b[0mcurrent_page\u001b[0m \u001b[0;34m=\u001b[0m \u001b[0mself\u001b[0m\u001b[0;34m.\u001b[0m\u001b[0mpage_iterator\u001b[0m\u001b[0;34m.\u001b[0m\u001b[0mnext\u001b[0m\u001b[0;34m(\u001b[0m\u001b[0;34m)\u001b[0m\u001b[0;34m\u001b[0m\u001b[0;34m\u001b[0m\u001b[0m\n\u001b[0m\u001b[1;32m    198\u001b[0m             \u001b[0mself\u001b[0m\u001b[0;34m.\u001b[0m\u001b[0mpage_index\u001b[0m \u001b[0;34m=\u001b[0m \u001b[0;34m-\u001b[0m\u001b[0;36m1\u001b[0m\u001b[0;34m\u001b[0m\u001b[0;34m\u001b[0m\u001b[0m\n\u001b[1;32m    199\u001b[0m         \u001b[0mself\u001b[0m\u001b[0;34m.\u001b[0m\u001b[0mpage_index\u001b[0m \u001b[0;34m+=\u001b[0m \u001b[0;36m1\u001b[0m\u001b[0;34m\u001b[0m\u001b[0;34m\u001b[0m\u001b[0m\n",
      "\u001b[0;32m/usr/local/lib/python3.6/dist-packages/tweepy/cursor.py\u001b[0m in \u001b[0;36mnext\u001b[0;34m(self)\u001b[0m\n\u001b[1;32m    106\u001b[0m \u001b[0;34m\u001b[0m\u001b[0m\n\u001b[1;32m    107\u001b[0m         \u001b[0;32mif\u001b[0m \u001b[0mself\u001b[0m\u001b[0;34m.\u001b[0m\u001b[0mindex\u001b[0m \u001b[0;34m>=\u001b[0m \u001b[0mlen\u001b[0m\u001b[0;34m(\u001b[0m\u001b[0mself\u001b[0m\u001b[0;34m.\u001b[0m\u001b[0mresults\u001b[0m\u001b[0;34m)\u001b[0m \u001b[0;34m-\u001b[0m \u001b[0;36m1\u001b[0m\u001b[0;34m:\u001b[0m\u001b[0;34m\u001b[0m\u001b[0;34m\u001b[0m\u001b[0m\n\u001b[0;32m--> 108\u001b[0;31m             \u001b[0mdata\u001b[0m \u001b[0;34m=\u001b[0m \u001b[0mself\u001b[0m\u001b[0;34m.\u001b[0m\u001b[0mmethod\u001b[0m\u001b[0;34m(\u001b[0m\u001b[0mmax_id\u001b[0m\u001b[0;34m=\u001b[0m\u001b[0mself\u001b[0m\u001b[0;34m.\u001b[0m\u001b[0mmax_id\u001b[0m\u001b[0;34m,\u001b[0m \u001b[0mparser\u001b[0m\u001b[0;34m=\u001b[0m\u001b[0mRawParser\u001b[0m\u001b[0;34m(\u001b[0m\u001b[0;34m)\u001b[0m\u001b[0;34m,\u001b[0m \u001b[0;34m*\u001b[0m\u001b[0mself\u001b[0m\u001b[0;34m.\u001b[0m\u001b[0margs\u001b[0m\u001b[0;34m,\u001b[0m \u001b[0;34m**\u001b[0m\u001b[0mself\u001b[0m\u001b[0;34m.\u001b[0m\u001b[0mkargs\u001b[0m\u001b[0;34m)\u001b[0m\u001b[0;34m\u001b[0m\u001b[0;34m\u001b[0m\u001b[0m\n\u001b[0m\u001b[1;32m    109\u001b[0m \u001b[0;34m\u001b[0m\u001b[0m\n\u001b[1;32m    110\u001b[0m             \u001b[0;32mif\u001b[0m \u001b[0mhasattr\u001b[0m\u001b[0;34m(\u001b[0m\u001b[0mself\u001b[0m\u001b[0;34m.\u001b[0m\u001b[0mmethod\u001b[0m\u001b[0;34m,\u001b[0m \u001b[0;34m'__self__'\u001b[0m\u001b[0;34m)\u001b[0m\u001b[0;34m:\u001b[0m\u001b[0;34m\u001b[0m\u001b[0;34m\u001b[0m\u001b[0m\n",
      "\u001b[0;32m/usr/local/lib/python3.6/dist-packages/tweepy/binder.py\u001b[0m in \u001b[0;36m_call\u001b[0;34m(*args, **kwargs)\u001b[0m\n\u001b[1;32m    248\u001b[0m             \u001b[0;32mreturn\u001b[0m \u001b[0mmethod\u001b[0m\u001b[0;34m\u001b[0m\u001b[0;34m\u001b[0m\u001b[0m\n\u001b[1;32m    249\u001b[0m         \u001b[0;32melse\u001b[0m\u001b[0;34m:\u001b[0m\u001b[0;34m\u001b[0m\u001b[0;34m\u001b[0m\u001b[0m\n\u001b[0;32m--> 250\u001b[0;31m             \u001b[0;32mreturn\u001b[0m \u001b[0mmethod\u001b[0m\u001b[0;34m.\u001b[0m\u001b[0mexecute\u001b[0m\u001b[0;34m(\u001b[0m\u001b[0;34m)\u001b[0m\u001b[0;34m\u001b[0m\u001b[0;34m\u001b[0m\u001b[0m\n\u001b[0m\u001b[1;32m    251\u001b[0m \u001b[0;34m\u001b[0m\u001b[0m\n\u001b[1;32m    252\u001b[0m     \u001b[0;31m# Set pagination mode\u001b[0m\u001b[0;34m\u001b[0m\u001b[0;34m\u001b[0m\u001b[0;34m\u001b[0m\u001b[0m\n",
      "\u001b[0;32m/usr/local/lib/python3.6/dist-packages/tweepy/binder.py\u001b[0m in \u001b[0;36mexecute\u001b[0;34m(self)\u001b[0m\n\u001b[1;32m    162\u001b[0m                                     \u001b[0;32mif\u001b[0m \u001b[0mself\u001b[0m\u001b[0;34m.\u001b[0m\u001b[0mwait_on_rate_limit_notify\u001b[0m\u001b[0;34m:\u001b[0m\u001b[0;34m\u001b[0m\u001b[0;34m\u001b[0m\u001b[0m\n\u001b[1;32m    163\u001b[0m                                         \u001b[0mlog\u001b[0m\u001b[0;34m.\u001b[0m\u001b[0mwarning\u001b[0m\u001b[0;34m(\u001b[0m\u001b[0;34m\"Rate limit reached. Sleeping for: %d\"\u001b[0m \u001b[0;34m%\u001b[0m \u001b[0msleep_time\u001b[0m\u001b[0;34m)\u001b[0m\u001b[0;34m\u001b[0m\u001b[0;34m\u001b[0m\u001b[0m\n\u001b[0;32m--> 164\u001b[0;31m                                     \u001b[0mtime\u001b[0m\u001b[0;34m.\u001b[0m\u001b[0msleep\u001b[0m\u001b[0;34m(\u001b[0m\u001b[0msleep_time\u001b[0m \u001b[0;34m+\u001b[0m \u001b[0;36m5\u001b[0m\u001b[0;34m)\u001b[0m  \u001b[0;31m# sleep for few extra sec\u001b[0m\u001b[0;34m\u001b[0m\u001b[0;34m\u001b[0m\u001b[0m\n\u001b[0m\u001b[1;32m    165\u001b[0m \u001b[0;34m\u001b[0m\u001b[0m\n\u001b[1;32m    166\u001b[0m                 \u001b[0;31m# if self.wait_on_rate_limit and self._reset_time is not None and \\\u001b[0m\u001b[0;34m\u001b[0m\u001b[0;34m\u001b[0m\u001b[0;34m\u001b[0m\u001b[0m\n",
      "\u001b[0;31mKeyboardInterrupt\u001b[0m: "
     ]
    }
   ],
   "source": [
    "#stocker les tweets dans un fichier CSV\n",
    "fichier ='tweets'+'.csv'\n",
    "with open (fichier, 'w', newline='',encoding=\"utf-8\") as File:\n",
    "    FileTab = csv.writer(File)\n",
    "    FileTab.writerow(['Id','Tweet','Nom'])\n",
    "    for tweet in tweepy.Cursor(api.search, q='Politics', lang = 'en').items(3000):\n",
    "        tweets_encoded = tweet.text.encode('utf-8')\n",
    "        tweets_decoded = tweets_encoded.decode('utf-8')\n",
    "        FileTab.writerow([tweet.id,tweets_decoded,tweet.user.name])\n",
    "    for tweet in tweepy.Cursor(api.search, q='culture', lang = 'en').items(3500):\n",
    "        tweets_encoded = tweet.text.encode('utf-8')\n",
    "        tweets_decoded = tweets_encoded.decode('utf-8')\n",
    "        FileTab.writerow([tweet.id,tweets_decoded,tweet.user.name])\n",
    "    for tweet in tweepy.Cursor(api.search, q='sport', lang = 'en').items(3500):\n",
    "        tweets_encoded = tweet.text.encode('utf-8')\n",
    "        tweets_decoded = tweets_encoded.decode('utf-8')\n",
    "        FileTab.writerow([tweet.id,tweets_decoded,tweet.user.name])"
   ]
  },
  {
   "cell_type": "code",
   "execution_count": 5,
   "metadata": {
    "id": "oGVRNz9FAYot"
   },
   "outputs": [],
   "source": [
    "fichierTweet = pd.read_csv('tweets.csv')"
   ]
  },
  {
   "cell_type": "code",
   "execution_count": 6,
   "metadata": {
    "colab": {
     "base_uri": "https://localhost:8080/",
     "height": 419
    },
    "id": "LRWvnAYaAbv9",
    "outputId": "0109ec17-e966-4d3d-ff64-7fdff7cc0130"
   },
   "outputs": [
    {
     "data": {
      "text/html": [
       "<div>\n",
       "<style scoped>\n",
       "    .dataframe tbody tr th:only-of-type {\n",
       "        vertical-align: middle;\n",
       "    }\n",
       "\n",
       "    .dataframe tbody tr th {\n",
       "        vertical-align: top;\n",
       "    }\n",
       "\n",
       "    .dataframe thead th {\n",
       "        text-align: right;\n",
       "    }\n",
       "</style>\n",
       "<table border=\"1\" class=\"dataframe\">\n",
       "  <thead>\n",
       "    <tr style=\"text-align: right;\">\n",
       "      <th></th>\n",
       "      <th>Id</th>\n",
       "      <th>Tweet</th>\n",
       "      <th>Nom</th>\n",
       "    </tr>\n",
       "  </thead>\n",
       "  <tbody>\n",
       "    <tr>\n",
       "      <th>0</th>\n",
       "      <td>1338528866197975041</td>\n",
       "      <td>RT @CNN: US electors are meeting Monday to for...</td>\n",
       "      <td>ldec</td>\n",
       "    </tr>\n",
       "    <tr>\n",
       "      <th>1</th>\n",
       "      <td>1338528865979932672</td>\n",
       "      <td>RT @t0p_101: Jeremy Corbyn to start global soc...</td>\n",
       "      <td>Shiva.Moonchild #BLM</td>\n",
       "    </tr>\n",
       "    <tr>\n",
       "      <th>2</th>\n",
       "      <td>1338528863039709189</td>\n",
       "      <td>RT @davidsirota: These lawmakers could just dr...</td>\n",
       "      <td>RJBIII 😷🏡</td>\n",
       "    </tr>\n",
       "    <tr>\n",
       "      <th>3</th>\n",
       "      <td>1338528862834188289</td>\n",
       "      <td>RT @NicolePowers: Federal judge hears case cha...</td>\n",
       "      <td>Robert Ropars</td>\n",
       "    </tr>\n",
       "    <tr>\n",
       "      <th>4</th>\n",
       "      <td>1338528862196666374</td>\n",
       "      <td>The wise who refuse to rule or participate in ...</td>\n",
       "      <td>Kuntakinte</td>\n",
       "    </tr>\n",
       "    <tr>\n",
       "      <th>...</th>\n",
       "      <td>...</td>\n",
       "      <td>...</td>\n",
       "      <td>...</td>\n",
       "    </tr>\n",
       "    <tr>\n",
       "      <th>85</th>\n",
       "      <td>1338528741228732419</td>\n",
       "      <td>RT @intergence: Our Stratiam® brand ambassador...</td>\n",
       "      <td>Silverstone Sports Engineering Hub</td>\n",
       "    </tr>\n",
       "    <tr>\n",
       "      <th>86</th>\n",
       "      <td>1338528732139622402</td>\n",
       "      <td>RT @BBCSport: Corinthians 🤝 Taylor Swift.\\n\\nC...</td>\n",
       "      <td>gabe k</td>\n",
       "    </tr>\n",
       "    <tr>\n",
       "      <th>87</th>\n",
       "      <td>1338528724275367939</td>\n",
       "      <td>RT @BBCSport: Corinthians 🤝 Taylor Swift.\\n\\nC...</td>\n",
       "      <td>bekaerri</td>\n",
       "    </tr>\n",
       "    <tr>\n",
       "      <th>88</th>\n",
       "      <td>1338528715517542403</td>\n",
       "      <td>@NASCAR No one will watch or attend Nascar aft...</td>\n",
       "      <td>AHS</td>\n",
       "    </tr>\n",
       "    <tr>\n",
       "      <th>89</th>\n",
       "      <td>1338528714943057921</td>\n",
       "      <td>RT @TheAthleticUK: 𝗕𝗲𝘀𝘁 𝗼𝗳 𝟮𝟬𝟮𝟬 \\nAn unprecede...</td>\n",
       "      <td>Chris Waugh</td>\n",
       "    </tr>\n",
       "  </tbody>\n",
       "</table>\n",
       "<p>90 rows × 3 columns</p>\n",
       "</div>"
      ],
      "text/plain": [
       "                     Id  ...                                 Nom\n",
       "0   1338528866197975041  ...                                ldec\n",
       "1   1338528865979932672  ...                Shiva.Moonchild #BLM\n",
       "2   1338528863039709189  ...                           RJBIII 😷🏡\n",
       "3   1338528862834188289  ...                       Robert Ropars\n",
       "4   1338528862196666374  ...                          Kuntakinte\n",
       "..                  ...  ...                                 ...\n",
       "85  1338528741228732419  ...  Silverstone Sports Engineering Hub\n",
       "86  1338528732139622402  ...                              gabe k\n",
       "87  1338528724275367939  ...                            bekaerri\n",
       "88  1338528715517542403  ...                                 AHS\n",
       "89  1338528714943057921  ...                         Chris Waugh\n",
       "\n",
       "[90 rows x 3 columns]"
      ]
     },
     "execution_count": 6,
     "metadata": {
      "tags": []
     },
     "output_type": "execute_result"
    }
   ],
   "source": [
    "fichierTweet.head(1000)"
   ]
  },
  {
   "cell_type": "code",
   "execution_count": 7,
   "metadata": {
    "id": "h9wyeZuIAeoP"
   },
   "outputs": [],
   "source": [
    "## nettoyage des Tweets"
   ]
  },
  {
   "cell_type": "code",
   "execution_count": 8,
   "metadata": {
    "colab": {
     "base_uri": "https://localhost:8080/",
     "height": 669
    },
    "id": "VJchhsb3Aiuk",
    "outputId": "8d32da95-d30b-4c74-d1b8-c5e82bb94f63"
   },
   "outputs": [
    {
     "data": {
      "text/html": [
       "<div>\n",
       "<style scoped>\n",
       "    .dataframe tbody tr th:only-of-type {\n",
       "        vertical-align: middle;\n",
       "    }\n",
       "\n",
       "    .dataframe tbody tr th {\n",
       "        vertical-align: top;\n",
       "    }\n",
       "\n",
       "    .dataframe thead th {\n",
       "        text-align: right;\n",
       "    }\n",
       "</style>\n",
       "<table border=\"1\" class=\"dataframe\">\n",
       "  <thead>\n",
       "    <tr style=\"text-align: right;\">\n",
       "      <th></th>\n",
       "      <th>Id</th>\n",
       "      <th>Tweet</th>\n",
       "      <th>Nom</th>\n",
       "    </tr>\n",
       "  </thead>\n",
       "  <tbody>\n",
       "    <tr>\n",
       "      <th>0</th>\n",
       "      <td>1338528866197975041</td>\n",
       "      <td>rt  us electors are meeting monday to formally...</td>\n",
       "      <td>ldec</td>\n",
       "    </tr>\n",
       "    <tr>\n",
       "      <th>1</th>\n",
       "      <td>1338528865979932672</td>\n",
       "      <td>rt 101 jeremy corbyn to start global social ju...</td>\n",
       "      <td>shivamoonchild blm</td>\n",
       "    </tr>\n",
       "    <tr>\n",
       "      <th>2</th>\n",
       "      <td>1338528863039709189</td>\n",
       "      <td>rt  these lawmakers could just draft a letter ...</td>\n",
       "      <td>rjbiii</td>\n",
       "    </tr>\n",
       "    <tr>\n",
       "      <th>3</th>\n",
       "      <td>1338528862834188289</td>\n",
       "      <td>rt  federal judge hears case challenging georg...</td>\n",
       "      <td>robert ropars</td>\n",
       "    </tr>\n",
       "    <tr>\n",
       "      <th>4</th>\n",
       "      <td>1338528862196666374</td>\n",
       "      <td>the wise who refuse to rule or participate in ...</td>\n",
       "      <td>kuntakinte</td>\n",
       "    </tr>\n",
       "    <tr>\n",
       "      <th>5</th>\n",
       "      <td>1338528860267155456</td>\n",
       "      <td>rt  bidens lawyers are working on ethics rules...</td>\n",
       "      <td>whiplash curve</td>\n",
       "    </tr>\n",
       "    <tr>\n",
       "      <th>6</th>\n",
       "      <td>1338528859310866441</td>\n",
       "      <td>rt boucher1 new michigan house leaders remove ...</td>\n",
       "      <td></td>\n",
       "    </tr>\n",
       "    <tr>\n",
       "      <th>7</th>\n",
       "      <td>1338528858660892674</td>\n",
       "      <td>rt   issue report largely blaming  for delayed...</td>\n",
       "      <td>karrie    krakenreleased djt won</td>\n",
       "    </tr>\n",
       "    <tr>\n",
       "      <th>8</th>\n",
       "      <td>1338528858652504066</td>\n",
       "      <td>rt  the institutions did not hold  just got hi...</td>\n",
       "      <td>larsfbrnew account</td>\n",
       "    </tr>\n",
       "    <tr>\n",
       "      <th>9</th>\n",
       "      <td>1338528857725390848</td>\n",
       "      <td>rt    its over dude congratulate peotus biden ...</td>\n",
       "      <td>lynnemarie olson</td>\n",
       "    </tr>\n",
       "    <tr>\n",
       "      <th>10</th>\n",
       "      <td>1338528856140079111</td>\n",
       "      <td>rt  chuffed to be part of jeremys initiative w...</td>\n",
       "      <td>nuevos horizontes uk</td>\n",
       "    </tr>\n",
       "    <tr>\n",
       "      <th>11</th>\n",
       "      <td>1338528855858933765</td>\n",
       "      <td>same here</td>\n",
       "      <td>inara everleigh  sf bay area</td>\n",
       "    </tr>\n",
       "    <tr>\n",
       "      <th>12</th>\n",
       "      <td>1338528853829029893</td>\n",
       "      <td>rt  joe bidens sizable margin of victory the s...</td>\n",
       "      <td>robert fernandez</td>\n",
       "    </tr>\n",
       "    <tr>\n",
       "      <th>13</th>\n",
       "      <td>1338528853564796928</td>\n",
       "      <td>so many good  worrying  points in this london ...</td>\n",
       "      <td>susie mesure</td>\n",
       "    </tr>\n",
       "    <tr>\n",
       "      <th>14</th>\n",
       "      <td>1338528852939825154</td>\n",
       "      <td>rt  the institutions did not hold  just got hi...</td>\n",
       "      <td>happywheel2001</td>\n",
       "    </tr>\n",
       "    <tr>\n",
       "      <th>15</th>\n",
       "      <td>1338528852453232645</td>\n",
       "      <td>rt  boris johnson will forever be remembered a...</td>\n",
       "      <td>david were going to lose our nhs blake</td>\n",
       "    </tr>\n",
       "    <tr>\n",
       "      <th>16</th>\n",
       "      <td>1338528851572514818</td>\n",
       "      <td>bart follows jesus following jesus influences ...</td>\n",
       "      <td>matt maestas</td>\n",
       "    </tr>\n",
       "    <tr>\n",
       "      <th>17</th>\n",
       "      <td>1338528850351939587</td>\n",
       "      <td>17 republican attorneys general back trump in ...</td>\n",
       "      <td>gregory shelton</td>\n",
       "    </tr>\n",
       "    <tr>\n",
       "      <th>18</th>\n",
       "      <td>1338528849387261952</td>\n",
       "      <td>watch nys electors vote at noon live here</td>\n",
       "      <td>joseph spector</td>\n",
       "    </tr>\n",
       "    <tr>\n",
       "      <th>19</th>\n",
       "      <td>1338528844081410049</td>\n",
       "      <td>rt  the first in a series of retrospective art...</td>\n",
       "      <td>belle</td>\n",
       "    </tr>\n",
       "  </tbody>\n",
       "</table>\n",
       "</div>"
      ],
      "text/plain": [
       "                     Id  ...                                     Nom\n",
       "0   1338528866197975041  ...                                    ldec\n",
       "1   1338528865979932672  ...                      shivamoonchild blm\n",
       "2   1338528863039709189  ...                                 rjbiii \n",
       "3   1338528862834188289  ...                           robert ropars\n",
       "4   1338528862196666374  ...                              kuntakinte\n",
       "5   1338528860267155456  ...                          whiplash curve\n",
       "6   1338528859310866441  ...                                        \n",
       "7   1338528858660892674  ...        karrie    krakenreleased djt won\n",
       "8   1338528858652504066  ...                      larsfbrnew account\n",
       "9   1338528857725390848  ...                        lynnemarie olson\n",
       "10  1338528856140079111  ...                    nuevos horizontes uk\n",
       "11  1338528855858933765  ...            inara everleigh  sf bay area\n",
       "12  1338528853829029893  ...                        robert fernandez\n",
       "13  1338528853564796928  ...                            susie mesure\n",
       "14  1338528852939825154  ...                          happywheel2001\n",
       "15  1338528852453232645  ...  david were going to lose our nhs blake\n",
       "16  1338528851572514818  ...                            matt maestas\n",
       "17  1338528850351939587  ...                         gregory shelton\n",
       "18  1338528849387261952  ...                          joseph spector\n",
       "19  1338528844081410049  ...                                   belle\n",
       "\n",
       "[20 rows x 3 columns]"
      ]
     },
     "execution_count": 8,
     "metadata": {
      "tags": []
     },
     "output_type": "execute_result"
    }
   ],
   "source": [
    "import re\n",
    "def clean_text(df,nom , tweet):\n",
    "    df[tweet] = df[tweet].str.lower()\n",
    "    df[tweet] = df[tweet].apply(lambda x: re.sub(r\"(@[A-Za-z0-9]+)|([^0-9A-Za-z \\t])|(\\w+:\\/\\/\\S+)|\"\"|^rt|http.+?|([0-9])\", \"\", x))\n",
    "\n",
    "    \n",
    "    df[nom] = df[nom].str.lower()\n",
    "    df[nom] = df[nom].apply(lambda x: re.sub(r\"(@[A-Za-z0-9]+)|([^0-9A-Za-z \\t])|(\\w+:\\/\\/\\S+)|\"\"|^rt|http.+?|([0-9])\", \"\", x))\n",
    "    return df\n",
    "\n",
    "clean_tweets = clean_text(fichierTweet, 'Nom','Tweet')\n",
    "clean_tweets.head(20)"
   ]
  },
  {
   "cell_type": "code",
   "execution_count": 9,
   "metadata": {
    "id": "AAsaEzhRAlxL"
   },
   "outputs": [],
   "source": [
    "nlp = en_core_web_sm.load()\n",
    "tokenizer = RegexpTokenizer(r'\\w+')\n",
    "lemmatizer = WordNetLemmatizer()\n",
    "stop = set(stopwords.words('english'))\n",
    "punctuation = list(string.punctuation)\n",
    "stop.update(punctuation)\n",
    "w_tokenizer = WhitespaceTokenizer()\n",
    "\n",
    "# clean the set of words\n",
    "            \n",
    "def furnished(text):\n",
    "    final_text = []\n",
    "    for i in text.split():\n",
    "        if i.lower() not in stop:\n",
    "            word = lemmatizer.lemmatize(i)\n",
    "            final_text.append(word.lower())\n",
    "    return \" \".join(final_text)"
   ]
  },
  {
   "cell_type": "code",
   "execution_count": 10,
   "metadata": {
    "id": "uF9O0rW4A3hx"
   },
   "outputs": [],
   "source": [
    "mots_Politics = ''' government diplomatic law political aristotle politics diplomatical governance republic public administration\n",
    "politician smooth suave state local government expedient sagacious police election political monarchy parliament dukes sovereign state\n",
    "polity regime democratic ethics communism federation anarchism authoritarianism populism bland aristocracy tribe power negotiation\n",
    "force warfare city clans tribes company country plato confucius latin kingship earls politically counts tribute lordship property inheritance\n",
    "confiscation individualist allegiance espionage conspiracy treason jewish gentile convention observance celibacy pope taxation petition legislation majority\n",
    "collegial permeates greek language flabby permeating communication commerce  governmental pervades permeated abstract straitjacket justice myopic\n",
    "discernment curfew consciences revenue pervading pervade matriarchal numbed juridical rightness unaccountable clannish civilised transfigured deliberative\n",
    "monopoly fatness paternalis mmonkish coin principle sinfulness perverted morass lawmaking'''"
   ]
  },
  {
   "cell_type": "code",
   "execution_count": 11,
   "metadata": {
    "id": "PIleM5VuP7wq"
   },
   "outputs": [],
   "source": [
    "mots_Sport = '''racing competition athletics spectator sport game gymnastics basketball team sportsman cycling fun skating tennis soccer leisure football \n",
    "athletic games baseball sportswoman position play disport lark boast mutation frolic skylark romp gambol mutant feature  rugby union \n",
    "frisk cavort rollick offside call referee champion skiing riding ski rowing netball diversion coach athlete hockey athletes\n",
    "entertainment olympic coaches polo outdoor sport team sport professional football business lead playing golftelevision chess\n",
    "running go sportsperson sports sportaccord competitive club race gym youth challenge teams track super pleasure class event exercise\n",
    "venue activity standards fitness son variation summercater tournament playoffs athleticism dexterity sumo line occupation wipeout\n",
    "flip pass toss recreation aquatics row archery sledding equitation shot stroke foul possession judo save tuck shooter timekeeper\n",
    "timer deficit average bout round turn surge seed curl start field shoot umpire drop down bandy submarine kick punt drive\n",
    "racket carry dribble cut box hike mountaineer rappel backpack pack skate skateboard sled sleigh bob bobsled luge toboggan\n",
    "scull canoe kayak paddle surf surfboard jackknife snorkel hurdle loose legal disqualified home away ineligible defending\n",
    "onside underarm underhand underhanded overhand upfield humor humour wit witticism jocularity clowning comedy draughts\n",
    "tradition goal funambulism birling logrollingoutclass double-team '''\n"
   ]
  },
  {
   "cell_type": "code",
   "execution_count": 12,
   "metadata": {
    "id": "7AALJqgcQAK4"
   },
   "outputs": [],
   "source": [
    "mots_culture  = '''\n",
    "society civilization philosophy anthropology subculture acculturation religion cultivation nationalism counterculture\n",
    "cultural ideology art popular folklore agriculture country writing music monoculture cyberculture language\n",
    "anthropology cooking literature science growth tillage grow ritual perfection development metaphor concept\n",
    "symbol mythology gender tradition archaeology clothing traditions traditional western culture contemporary\n",
    "multiculturalism elite politics ethnicity heritage sociology modernity spirituality marxism ethos nationality\n",
    "humanism romanticism finish polish refinement civilisation traditionalism genetics human learning interaction kinship heredity\n",
    "marriage dance technology shelter growing biology starter viticulture discernment content maturation appreciation ontogeny\n",
    "archeology attitude taste letters institutions humanities acculturate jewelry flawlessness perceptiveness ontogenesis\n",
    "viniculture meme modern capitalism clothes cultures social intellectual especially nature religious rooted\n",
    "context cicero societies popular history literary roots important geography historical\n",
    "folk particular origins phenomenon teleology ancient aspects perspective particularly rousseau architecture life inspired\n",
    "liberalism influence landscape flourishing urban circles everyday refers foremost ideas aesthetics thriving indigenous\n",
    "peoples such famous example known chinese describe nowadays community style knowledge unique prevalent describes environment classical\n",
    " today common originv interests great behavioral modernity most besides well beliefs importance emphasis kind understanding\n",
    "themes genre regarded '''"
   ]
  },
  {
   "cell_type": "code",
   "execution_count": 13,
   "metadata": {
    "id": "PLbLBTvAR-x4"
   },
   "outputs": [],
   "source": [
    "politique = furnished(mots_Politics)\n",
    "sport = furnished(mots_Sport)\n",
    "culture = furnished(mots_culture)"
   ]
  },
  {
   "cell_type": "code",
   "execution_count": 14,
   "metadata": {
    "id": "Qati8lhvS1W7"
   },
   "outputs": [],
   "source": [
    "##victoriser"
   ]
  },
  {
   "cell_type": "code",
   "execution_count": 15,
   "metadata": {
    "id": "EemRMhKrSgKl"
   },
   "outputs": [],
   "source": [
    "'''Vectoriser les ensembles de mots, puis les standardiser. TFIDF sera utilisé afin de prendre en charge le moins\n",
    "mots fréquents. La standardisation est parce que TFIDF favorise les phrases longues et il y aura des incohérences entre la longueur\n",
    "des tweets et de la longueur des mots.'''\n",
    "\n",
    "\n",
    "def get_vectors(*strs):\n",
    "    text = [t for t in strs]\n",
    "    vectorizer = TfidfVectorizer(text)\n",
    "    vectorizer.fit(text)\n",
    "    return vectorizer.transform(text).toarray()"
   ]
  },
  {
   "cell_type": "code",
   "execution_count": 16,
   "metadata": {
    "id": "5QgSQ6k2S6HZ"
   },
   "outputs": [],
   "source": [
    "vecteur_Politics = get_vectors(politique)\n",
    "vecteur_Politics = get_vectors(sport)\n",
    "vecteur_Politics = get_vectors(culture)\n"
   ]
  },
  {
   "cell_type": "code",
   "execution_count": 17,
   "metadata": {
    "colab": {
     "base_uri": "https://localhost:8080/"
    },
    "id": "2pzVNrGkTuQI",
    "outputId": "226aacb4-caaf-40fc-cbd3-83e8233bd1ab"
   },
   "outputs": [
    {
     "data": {
      "text/plain": [
       "array([[0.07352146, 0.07352146, 0.07352146, 0.07352146, 0.07352146,\n",
       "        0.14704292, 0.07352146, 0.07352146, 0.07352146, 0.07352146,\n",
       "        0.07352146, 0.07352146, 0.07352146, 0.07352146, 0.07352146,\n",
       "        0.07352146, 0.07352146, 0.07352146, 0.07352146, 0.07352146,\n",
       "        0.07352146, 0.07352146, 0.07352146, 0.07352146, 0.07352146,\n",
       "        0.07352146, 0.07352146, 0.07352146, 0.07352146, 0.07352146,\n",
       "        0.07352146, 0.07352146, 0.07352146, 0.07352146, 0.07352146,\n",
       "        0.07352146, 0.07352146, 0.14704292, 0.07352146, 0.07352146,\n",
       "        0.07352146, 0.07352146, 0.07352146, 0.07352146, 0.07352146,\n",
       "        0.07352146, 0.07352146, 0.07352146, 0.07352146, 0.07352146,\n",
       "        0.07352146, 0.07352146, 0.07352146, 0.07352146, 0.07352146,\n",
       "        0.07352146, 0.07352146, 0.07352146, 0.07352146, 0.07352146,\n",
       "        0.07352146, 0.07352146, 0.07352146, 0.07352146, 0.07352146,\n",
       "        0.07352146, 0.07352146, 0.07352146, 0.07352146, 0.07352146,\n",
       "        0.07352146, 0.07352146, 0.07352146, 0.07352146, 0.07352146,\n",
       "        0.07352146, 0.07352146, 0.07352146, 0.07352146, 0.07352146,\n",
       "        0.07352146, 0.07352146, 0.07352146, 0.07352146, 0.07352146,\n",
       "        0.07352146, 0.07352146, 0.07352146, 0.07352146, 0.07352146,\n",
       "        0.07352146, 0.07352146, 0.07352146, 0.07352146, 0.07352146,\n",
       "        0.07352146, 0.07352146, 0.07352146, 0.07352146, 0.07352146,\n",
       "        0.07352146, 0.07352146, 0.07352146, 0.07352146, 0.14704292,\n",
       "        0.07352146, 0.07352146, 0.07352146, 0.07352146, 0.07352146,\n",
       "        0.07352146, 0.07352146, 0.07352146, 0.07352146, 0.07352146,\n",
       "        0.07352146, 0.07352146, 0.07352146, 0.07352146, 0.07352146,\n",
       "        0.07352146, 0.07352146, 0.07352146, 0.07352146, 0.07352146,\n",
       "        0.07352146, 0.07352146, 0.14704292, 0.07352146, 0.07352146,\n",
       "        0.07352146, 0.07352146, 0.07352146, 0.07352146, 0.07352146,\n",
       "        0.07352146, 0.07352146, 0.07352146, 0.07352146, 0.07352146,\n",
       "        0.07352146, 0.07352146, 0.14704292, 0.07352146, 0.07352146,\n",
       "        0.07352146, 0.07352146, 0.07352146, 0.07352146, 0.07352146,\n",
       "        0.07352146, 0.07352146, 0.07352146, 0.07352146, 0.07352146,\n",
       "        0.07352146, 0.14704292, 0.07352146, 0.07352146, 0.07352146,\n",
       "        0.07352146, 0.07352146, 0.07352146, 0.07352146, 0.07352146,\n",
       "        0.07352146, 0.07352146]])"
      ]
     },
     "execution_count": 17,
     "metadata": {
      "tags": []
     },
     "output_type": "execute_result"
    }
   ],
   "source": [
    "vecteur_Politics"
   ]
  },
  {
   "cell_type": "code",
   "execution_count": 18,
   "metadata": {
    "id": "MbBWcARUULEG"
   },
   "outputs": [],
   "source": [
    "\n",
    "from scipy import stats\n",
    "## Vectorizing the tweets\n",
    "tv=TfidfVectorizer()\n",
    "# tweets_bowl = tweets_bowl.tweets.apply(get_vectors)\n",
    "# tweets_bowl.head()\n",
    "tfidf_tweets =tv.fit_transform(fichierTweet.Tweet)\n",
    "tfidf_tweets =tv.fit_transform(fichierTweet.Nom)"
   ]
  },
  {
   "cell_type": "code",
   "execution_count": 29,
   "metadata": {
    "id": "cMHD0PdqU72r"
   },
   "outputs": [],
   "source": [
    "'''La similitude Jaccard est bonne pour les cas où la duplication n'a pas d'importance,\n",
    "La similitude cosinus est bonne pour les cas où la duplication est importante lors de l'analyse de la similitude du texte. Pour deux descriptions de produits,\n",
    "il vaudra mieux utiliser la similitude de Jaccard car la répétition d'un mot ne réduit pas leur similitude.'''\n",
    "\n",
    "def jaccard_similarity(query, document):\n",
    "    intersection = set(query).intersection(set(document))\n",
    "    union = set(query).union(set(document))\n",
    "    return len(intersection)/len(union)\n",
    "# jaccard_score(socialvector, economic_vector)\n",
    "\n",
    "#for similarity of 1 and 2 of column1\n",
    "# jaccard_similarity('dog lion a dog','dog is cat')\n",
    "\n",
    "\n",
    "def get_scores(group,tweets):\n",
    "    scores = []\n",
    "    for tweet in tweets:\n",
    "        s = jaccard_similarity(group, tweet)\n",
    "        scores.append(s)\n",
    "    return scores"
   ]
  },
  {
   "cell_type": "code",
   "execution_count": 30,
   "metadata": {
    "colab": {
     "base_uri": "https://localhost:8080/"
    },
    "id": "McsfO42uVUys",
    "outputId": "abbc4636-4637-43c7-c6c4-559c00d33d20"
   },
   "outputs": [
    {
     "data": {
      "text/plain": [
       "[0.8148148148148148,\n",
       " 0.88,\n",
       " 0.7307692307692307,\n",
       " 0.8076923076923077,\n",
       " 0.88,\n",
       " 0.88,\n",
       " 0.6896551724137931,\n",
       " 0.76,\n",
       " 0.56,\n",
       " 0.92,\n",
       " 0.92,\n",
       " 0.88,\n",
       " 0.88,\n",
       " 0.76,\n",
       " 0.8148148148148148]"
      ]
     },
     "execution_count": 30,
     "metadata": {
      "tags": []
     },
     "output_type": "execute_result"
    }
   ],
   "source": [
    "Score_Politics = get_scores(politique,fichierTweet.Tweet.to_list())\n",
    "Score_Politics[-15:]"
   ]
  },
  {
   "cell_type": "code",
   "execution_count": 31,
   "metadata": {
    "colab": {
     "base_uri": "https://localhost:8080/"
    },
    "id": "y9RfzgYKVqJp",
    "outputId": "2b8d5872-50ff-4d61-c427-31ca4f945df1"
   },
   "outputs": [
    {
     "data": {
      "text/plain": [
       "[0.7586206896551724,\n",
       " 0.8148148148148148,\n",
       " 0.6785714285714286,\n",
       " 0.75,\n",
       " 0.8148148148148148,\n",
       " 0.8148148148148148,\n",
       " 0.7,\n",
       " 0.7037037037037037,\n",
       " 0.5185185185185185,\n",
       " 0.8518518518518519,\n",
       " 0.8518518518518519,\n",
       " 0.8148148148148148,\n",
       " 0.8148148148148148,\n",
       " 0.7037037037037037,\n",
       " 0.7586206896551724]"
      ]
     },
     "execution_count": 31,
     "metadata": {
      "tags": []
     },
     "output_type": "execute_result"
    }
   ],
   "source": [
    "Score_Sport = get_scores(sport,fichierTweet.Tweet.to_list())\n",
    "Score_Sport[-15:]"
   ]
  },
  {
   "cell_type": "code",
   "execution_count": 32,
   "metadata": {
    "colab": {
     "base_uri": "https://localhost:8080/"
    },
    "id": "16wAfKwVdiwP",
    "outputId": "557070a6-6199-4bd5-9cda-fa65b45c886f"
   },
   "outputs": [
    {
     "data": {
      "text/plain": [
       "[0.7586206896551724,\n",
       " 0.8148148148148148,\n",
       " 0.7407407407407407,\n",
       " 0.75,\n",
       " 0.8148148148148148,\n",
       " 0.8148148148148148,\n",
       " 0.7,\n",
       " 0.7037037037037037,\n",
       " 0.5185185185185185,\n",
       " 0.8518518518518519,\n",
       " 0.8518518518518519,\n",
       " 0.8148148148148148,\n",
       " 0.8148148148148148,\n",
       " 0.7037037037037037,\n",
       " 0.7586206896551724]"
      ]
     },
     "execution_count": 32,
     "metadata": {
      "tags": []
     },
     "output_type": "execute_result"
    }
   ],
   "source": [
    "Score_Culture = get_scores(culture,fichierTweet.Tweet.to_list())\n",
    "Score_Culture[-15:]"
   ]
  },
  {
   "cell_type": "code",
   "execution_count": 33,
   "metadata": {
    "id": "59Vu_RurfuUB"
   },
   "outputs": [],
   "source": [
    "Nom_List=fichierTweet.Nom.to_list()"
   ]
  },
  {
   "cell_type": "code",
   "execution_count": 34,
   "metadata": {
    "colab": {
     "base_uri": "https://localhost:8080/",
     "height": 669
    },
    "id": "PLSHORbUd9eP",
    "outputId": "eebde889-d930-43d6-c3fb-ec9907c28a42"
   },
   "outputs": [
    {
     "data": {
      "text/html": [
       "<div>\n",
       "<style scoped>\n",
       "    .dataframe tbody tr th:only-of-type {\n",
       "        vertical-align: middle;\n",
       "    }\n",
       "\n",
       "    .dataframe tbody tr th {\n",
       "        vertical-align: top;\n",
       "    }\n",
       "\n",
       "    .dataframe thead th {\n",
       "        text-align: right;\n",
       "    }\n",
       "</style>\n",
       "<table border=\"1\" class=\"dataframe\">\n",
       "  <thead>\n",
       "    <tr style=\"text-align: right;\">\n",
       "      <th></th>\n",
       "      <th>nom</th>\n",
       "      <th>politique</th>\n",
       "      <th>sport</th>\n",
       "      <th>culture</th>\n",
       "    </tr>\n",
       "  </thead>\n",
       "  <tbody>\n",
       "    <tr>\n",
       "      <th>0</th>\n",
       "      <td>ldec</td>\n",
       "      <td>0.920000</td>\n",
       "      <td>0.851852</td>\n",
       "      <td>0.851852</td>\n",
       "    </tr>\n",
       "    <tr>\n",
       "      <th>1</th>\n",
       "      <td>shivamoonchild blm</td>\n",
       "      <td>0.851852</td>\n",
       "      <td>0.793103</td>\n",
       "      <td>0.793103</td>\n",
       "    </tr>\n",
       "    <tr>\n",
       "      <th>2</th>\n",
       "      <td>rjbiii</td>\n",
       "      <td>0.880000</td>\n",
       "      <td>0.814815</td>\n",
       "      <td>0.814815</td>\n",
       "    </tr>\n",
       "    <tr>\n",
       "      <th>3</th>\n",
       "      <td>robert ropars</td>\n",
       "      <td>0.880000</td>\n",
       "      <td>0.814815</td>\n",
       "      <td>0.814815</td>\n",
       "    </tr>\n",
       "    <tr>\n",
       "      <th>4</th>\n",
       "      <td>kuntakinte</td>\n",
       "      <td>0.840000</td>\n",
       "      <td>0.777778</td>\n",
       "      <td>0.777778</td>\n",
       "    </tr>\n",
       "    <tr>\n",
       "      <th>5</th>\n",
       "      <td>whiplash curve</td>\n",
       "      <td>0.840000</td>\n",
       "      <td>0.777778</td>\n",
       "      <td>0.777778</td>\n",
       "    </tr>\n",
       "    <tr>\n",
       "      <th>6</th>\n",
       "      <td></td>\n",
       "      <td>0.884615</td>\n",
       "      <td>0.821429</td>\n",
       "      <td>0.821429</td>\n",
       "    </tr>\n",
       "    <tr>\n",
       "      <th>7</th>\n",
       "      <td>karrie    krakenreleased djt won</td>\n",
       "      <td>0.880000</td>\n",
       "      <td>0.814815</td>\n",
       "      <td>0.814815</td>\n",
       "    </tr>\n",
       "    <tr>\n",
       "      <th>8</th>\n",
       "      <td>larsfbrnew account</td>\n",
       "      <td>0.800000</td>\n",
       "      <td>0.740741</td>\n",
       "      <td>0.740741</td>\n",
       "    </tr>\n",
       "    <tr>\n",
       "      <th>9</th>\n",
       "      <td>lynnemarie olson</td>\n",
       "      <td>0.720000</td>\n",
       "      <td>0.666667</td>\n",
       "      <td>0.666667</td>\n",
       "    </tr>\n",
       "    <tr>\n",
       "      <th>10</th>\n",
       "      <td>nuevos horizontes uk</td>\n",
       "      <td>0.920000</td>\n",
       "      <td>0.851852</td>\n",
       "      <td>0.851852</td>\n",
       "    </tr>\n",
       "    <tr>\n",
       "      <th>11</th>\n",
       "      <td>inara everleigh  sf bay area</td>\n",
       "      <td>0.280000</td>\n",
       "      <td>0.259259</td>\n",
       "      <td>0.259259</td>\n",
       "    </tr>\n",
       "    <tr>\n",
       "      <th>12</th>\n",
       "      <td>robert fernandez</td>\n",
       "      <td>0.884615</td>\n",
       "      <td>0.821429</td>\n",
       "      <td>0.888889</td>\n",
       "    </tr>\n",
       "    <tr>\n",
       "      <th>13</th>\n",
       "      <td>susie mesure</td>\n",
       "      <td>0.920000</td>\n",
       "      <td>0.851852</td>\n",
       "      <td>0.851852</td>\n",
       "    </tr>\n",
       "    <tr>\n",
       "      <th>14</th>\n",
       "      <td>happywheel2001</td>\n",
       "      <td>0.800000</td>\n",
       "      <td>0.740741</td>\n",
       "      <td>0.740741</td>\n",
       "    </tr>\n",
       "    <tr>\n",
       "      <th>15</th>\n",
       "      <td>david were going to lose our nhs blake</td>\n",
       "      <td>0.880000</td>\n",
       "      <td>0.814815</td>\n",
       "      <td>0.814815</td>\n",
       "    </tr>\n",
       "    <tr>\n",
       "      <th>16</th>\n",
       "      <td>matt maestas</td>\n",
       "      <td>0.760000</td>\n",
       "      <td>0.703704</td>\n",
       "      <td>0.703704</td>\n",
       "    </tr>\n",
       "    <tr>\n",
       "      <th>17</th>\n",
       "      <td>gregory shelton</td>\n",
       "      <td>0.851852</td>\n",
       "      <td>0.793103</td>\n",
       "      <td>0.793103</td>\n",
       "    </tr>\n",
       "    <tr>\n",
       "      <th>18</th>\n",
       "      <td>joseph spector</td>\n",
       "      <td>0.600000</td>\n",
       "      <td>0.555556</td>\n",
       "      <td>0.555556</td>\n",
       "    </tr>\n",
       "    <tr>\n",
       "      <th>19</th>\n",
       "      <td>belle</td>\n",
       "      <td>0.720000</td>\n",
       "      <td>0.666667</td>\n",
       "      <td>0.666667</td>\n",
       "    </tr>\n",
       "  </tbody>\n",
       "</table>\n",
       "</div>"
      ],
      "text/plain": [
       "                                       nom  politique     sport   culture\n",
       "0                                     ldec   0.920000  0.851852  0.851852\n",
       "1                       shivamoonchild blm   0.851852  0.793103  0.793103\n",
       "2                                  rjbiii    0.880000  0.814815  0.814815\n",
       "3                            robert ropars   0.880000  0.814815  0.814815\n",
       "4                               kuntakinte   0.840000  0.777778  0.777778\n",
       "5                           whiplash curve   0.840000  0.777778  0.777778\n",
       "6                                            0.884615  0.821429  0.821429\n",
       "7         karrie    krakenreleased djt won   0.880000  0.814815  0.814815\n",
       "8                       larsfbrnew account   0.800000  0.740741  0.740741\n",
       "9                         lynnemarie olson   0.720000  0.666667  0.666667\n",
       "10                    nuevos horizontes uk   0.920000  0.851852  0.851852\n",
       "11            inara everleigh  sf bay area   0.280000  0.259259  0.259259\n",
       "12                        robert fernandez   0.884615  0.821429  0.888889\n",
       "13                            susie mesure   0.920000  0.851852  0.851852\n",
       "14                          happywheel2001   0.800000  0.740741  0.740741\n",
       "15  david were going to lose our nhs blake   0.880000  0.814815  0.814815\n",
       "16                            matt maestas   0.760000  0.703704  0.703704\n",
       "17                         gregory shelton   0.851852  0.793103  0.793103\n",
       "18                          joseph spector   0.600000  0.555556  0.555556\n",
       "19                                   belle   0.720000  0.666667  0.666667"
      ]
     },
     "execution_count": 34,
     "metadata": {
      "tags": []
     },
     "output_type": "execute_result"
    }
   ],
   "source": [
    "''''nouveau df avec les noms et les scores jaccard pour chaque groupe'''\n",
    "\n",
    "data  = {'nom':Nom_List,'politique': Score_Politics, 'sport': Score_Sport, 'culture':Score_Culture}\n",
    "scores_df = pd.DataFrame(data)\n",
    "scores_df.head(20)"
   ]
  },
  {
   "cell_type": "code",
   "execution_count": 35,
   "metadata": {
    "id": "nHLYaZ8Df9Ke"
   },
   "outputs": [],
   "source": [
    "\n",
    "'''Actual assigning of classes to the tweets'''\n",
    "\n",
    "def get_clusters(l1, l2, l3):\n",
    "    pol = []\n",
    "    sp = []\n",
    "    cul = []\n",
    "    for i, j, k in zip(l1, l2, l3):\n",
    "        m = max(i, j, k)\n",
    "        if m == i:\n",
    "            pol.append(1)\n",
    "        else:\n",
    "            pol.append(0)\n",
    "        if m == j:\n",
    "            sp.append(1)\n",
    "        else:\n",
    "            sp.append(0)        \n",
    "        if m == k:\n",
    "            cul.append(1)\n",
    "        else:\n",
    "            cul.append(0)              \n",
    "    return pol, sp, cul,"
   ]
  },
  {
   "cell_type": "code",
   "execution_count": 37,
   "metadata": {
    "id": "18ahH-CIMMg9"
   },
   "outputs": [],
   "source": [
    "l1 = scores_df.politique.to_list()\n",
    "l2 = scores_df.sport.to_list()\n",
    "l3 = scores_df.culture.to_list()\n",
    "\n",
    "pol, sp, cul = get_clusters(l1, l2, l3)"
   ]
  },
  {
   "cell_type": "code",
   "execution_count": 41,
   "metadata": {
    "colab": {
     "base_uri": "https://localhost:8080/",
     "height": 669
    },
    "id": "jn5O3EuaNTVE",
    "outputId": "5c92b2fc-00d9-4a1a-d5d5-b7d2a6ec68dd"
   },
   "outputs": [
    {
     "data": {
      "text/html": [
       "<div>\n",
       "<style scoped>\n",
       "    .dataframe tbody tr th:only-of-type {\n",
       "        vertical-align: middle;\n",
       "    }\n",
       "\n",
       "    .dataframe tbody tr th {\n",
       "        vertical-align: top;\n",
       "    }\n",
       "\n",
       "    .dataframe thead th {\n",
       "        text-align: right;\n",
       "    }\n",
       "</style>\n",
       "<table border=\"1\" class=\"dataframe\">\n",
       "  <thead>\n",
       "    <tr style=\"text-align: right;\">\n",
       "      <th></th>\n",
       "      <th>nom</th>\n",
       "      <th>politique</th>\n",
       "      <th>sport</th>\n",
       "      <th>culture</th>\n",
       "    </tr>\n",
       "  </thead>\n",
       "  <tbody>\n",
       "    <tr>\n",
       "      <th>0</th>\n",
       "      <td>ldec</td>\n",
       "      <td>1</td>\n",
       "      <td>0</td>\n",
       "      <td>0</td>\n",
       "    </tr>\n",
       "    <tr>\n",
       "      <th>1</th>\n",
       "      <td>shivamoonchild blm</td>\n",
       "      <td>1</td>\n",
       "      <td>0</td>\n",
       "      <td>0</td>\n",
       "    </tr>\n",
       "    <tr>\n",
       "      <th>2</th>\n",
       "      <td>rjbiii</td>\n",
       "      <td>1</td>\n",
       "      <td>0</td>\n",
       "      <td>0</td>\n",
       "    </tr>\n",
       "    <tr>\n",
       "      <th>3</th>\n",
       "      <td>robert ropars</td>\n",
       "      <td>1</td>\n",
       "      <td>0</td>\n",
       "      <td>0</td>\n",
       "    </tr>\n",
       "    <tr>\n",
       "      <th>4</th>\n",
       "      <td>kuntakinte</td>\n",
       "      <td>1</td>\n",
       "      <td>0</td>\n",
       "      <td>0</td>\n",
       "    </tr>\n",
       "    <tr>\n",
       "      <th>5</th>\n",
       "      <td>whiplash curve</td>\n",
       "      <td>1</td>\n",
       "      <td>0</td>\n",
       "      <td>0</td>\n",
       "    </tr>\n",
       "    <tr>\n",
       "      <th>6</th>\n",
       "      <td></td>\n",
       "      <td>1</td>\n",
       "      <td>0</td>\n",
       "      <td>0</td>\n",
       "    </tr>\n",
       "    <tr>\n",
       "      <th>7</th>\n",
       "      <td>karrie    krakenreleased djt won</td>\n",
       "      <td>1</td>\n",
       "      <td>0</td>\n",
       "      <td>0</td>\n",
       "    </tr>\n",
       "    <tr>\n",
       "      <th>8</th>\n",
       "      <td>larsfbrnew account</td>\n",
       "      <td>1</td>\n",
       "      <td>0</td>\n",
       "      <td>0</td>\n",
       "    </tr>\n",
       "    <tr>\n",
       "      <th>9</th>\n",
       "      <td>lynnemarie olson</td>\n",
       "      <td>1</td>\n",
       "      <td>0</td>\n",
       "      <td>0</td>\n",
       "    </tr>\n",
       "    <tr>\n",
       "      <th>10</th>\n",
       "      <td>nuevos horizontes uk</td>\n",
       "      <td>1</td>\n",
       "      <td>0</td>\n",
       "      <td>0</td>\n",
       "    </tr>\n",
       "    <tr>\n",
       "      <th>11</th>\n",
       "      <td>inara everleigh  sf bay area</td>\n",
       "      <td>1</td>\n",
       "      <td>0</td>\n",
       "      <td>0</td>\n",
       "    </tr>\n",
       "    <tr>\n",
       "      <th>12</th>\n",
       "      <td>robert fernandez</td>\n",
       "      <td>0</td>\n",
       "      <td>0</td>\n",
       "      <td>1</td>\n",
       "    </tr>\n",
       "    <tr>\n",
       "      <th>13</th>\n",
       "      <td>susie mesure</td>\n",
       "      <td>1</td>\n",
       "      <td>0</td>\n",
       "      <td>0</td>\n",
       "    </tr>\n",
       "    <tr>\n",
       "      <th>14</th>\n",
       "      <td>happywheel2001</td>\n",
       "      <td>1</td>\n",
       "      <td>0</td>\n",
       "      <td>0</td>\n",
       "    </tr>\n",
       "    <tr>\n",
       "      <th>15</th>\n",
       "      <td>david were going to lose our nhs blake</td>\n",
       "      <td>1</td>\n",
       "      <td>0</td>\n",
       "      <td>0</td>\n",
       "    </tr>\n",
       "    <tr>\n",
       "      <th>16</th>\n",
       "      <td>matt maestas</td>\n",
       "      <td>1</td>\n",
       "      <td>0</td>\n",
       "      <td>0</td>\n",
       "    </tr>\n",
       "    <tr>\n",
       "      <th>17</th>\n",
       "      <td>gregory shelton</td>\n",
       "      <td>1</td>\n",
       "      <td>0</td>\n",
       "      <td>0</td>\n",
       "    </tr>\n",
       "    <tr>\n",
       "      <th>18</th>\n",
       "      <td>joseph spector</td>\n",
       "      <td>1</td>\n",
       "      <td>0</td>\n",
       "      <td>0</td>\n",
       "    </tr>\n",
       "    <tr>\n",
       "      <th>19</th>\n",
       "      <td>belle</td>\n",
       "      <td>1</td>\n",
       "      <td>0</td>\n",
       "      <td>0</td>\n",
       "    </tr>\n",
       "  </tbody>\n",
       "</table>\n",
       "</div>"
      ],
      "text/plain": [
       "                                       nom  politique  sport  culture\n",
       "0                                     ldec          1      0        0\n",
       "1                       shivamoonchild blm          1      0        0\n",
       "2                                  rjbiii           1      0        0\n",
       "3                            robert ropars          1      0        0\n",
       "4                               kuntakinte          1      0        0\n",
       "5                           whiplash curve          1      0        0\n",
       "6                                                   1      0        0\n",
       "7         karrie    krakenreleased djt won          1      0        0\n",
       "8                       larsfbrnew account          1      0        0\n",
       "9                         lynnemarie olson          1      0        0\n",
       "10                    nuevos horizontes uk          1      0        0\n",
       "11            inara everleigh  sf bay area          1      0        0\n",
       "12                        robert fernandez          0      0        1\n",
       "13                            susie mesure          1      0        0\n",
       "14                          happywheel2001          1      0        0\n",
       "15  david were going to lose our nhs blake          1      0        0\n",
       "16                            matt maestas          1      0        0\n",
       "17                         gregory shelton          1      0        0\n",
       "18                          joseph spector          1      0        0\n",
       "19                                   belle          1      0        0"
      ]
     },
     "execution_count": 41,
     "metadata": {
      "tags": []
     },
     "output_type": "execute_result"
    }
   ],
   "source": [
    "data = {'nom': Nom_List, 'politique':pol, 'sport':sp, 'culture':cul}\n",
    "cluster_df = pd.DataFrame(data)\n",
    "cluster_df.head(20)"
   ]
  },
  {
   "cell_type": "code",
   "execution_count": 44,
   "metadata": {
    "id": "UxZ-A_e0PEJo"
   },
   "outputs": [],
   "source": [
    "'''En raison de la similitude étroite entre les tweets économiques, sociaux et sanitaires, certains tweets ont plusieurs catégories,\n",
    "donc pour faire attention que les lignes avec une somme> 1 devront partager les catégories. Après cela, le clustering prendra soin\n",
    "des fractions '''\n",
    "\n",
    "\n",
    "a =  cluster_df[['politique', 'sport', 'culture']].sum(axis = 1) > 1\n",
    "c = cluster_df[['politique', 'sport', 'culture']].sum(axis = 1)\n",
    "cluster_df.loc[(a), ['politique', 'sport', 'culture']] = 1/c"
   ]
  },
  {
   "cell_type": "code",
   "execution_count": 45,
   "metadata": {
    "colab": {
     "base_uri": "https://localhost:8080/"
    },
    "id": "lh58CuVHP3QL",
    "outputId": "70d8c181-b70a-4622-9c24-155b85abfad4"
   },
   "outputs": [
    {
     "data": {
      "text/plain": [
       "(90, 4)"
      ]
     },
     "execution_count": 45,
     "metadata": {
      "tags": []
     },
     "output_type": "execute_result"
    }
   ],
   "source": [
    "cluster_df.shape"
   ]
  },
  {
   "cell_type": "code",
   "execution_count": 46,
   "metadata": {
    "id": "e08w0wPsRSCR"
   },
   "outputs": [],
   "source": [
    "#  Clustered DF"
   ]
  },
  {
   "cell_type": "code",
   "execution_count": 48,
   "metadata": {
    "colab": {
     "base_uri": "https://localhost:8080/",
     "height": 252
    },
    "id": "6UkMKd08RWiW",
    "outputId": "843a3cf9-5b10-4878-9229-1e38cdc63474"
   },
   "outputs": [
    {
     "name": "stdout",
     "output_type": "stream",
     "text": [
      "(87, 4)\n"
     ]
    },
    {
     "data": {
      "text/html": [
       "<div>\n",
       "<style scoped>\n",
       "    .dataframe tbody tr th:only-of-type {\n",
       "        vertical-align: middle;\n",
       "    }\n",
       "\n",
       "    .dataframe tbody tr th {\n",
       "        vertical-align: top;\n",
       "    }\n",
       "\n",
       "    .dataframe thead th {\n",
       "        text-align: right;\n",
       "    }\n",
       "</style>\n",
       "<table border=\"1\" class=\"dataframe\">\n",
       "  <thead>\n",
       "    <tr style=\"text-align: right;\">\n",
       "      <th></th>\n",
       "      <th>politique</th>\n",
       "      <th>sport</th>\n",
       "      <th>culture</th>\n",
       "      <th>total</th>\n",
       "    </tr>\n",
       "    <tr>\n",
       "      <th>nom</th>\n",
       "      <th></th>\n",
       "      <th></th>\n",
       "      <th></th>\n",
       "      <th></th>\n",
       "    </tr>\n",
       "  </thead>\n",
       "  <tbody>\n",
       "    <tr>\n",
       "      <th>val  studying for finals</th>\n",
       "      <td>1</td>\n",
       "      <td>0</td>\n",
       "      <td>0</td>\n",
       "      <td>1</td>\n",
       "    </tr>\n",
       "    <tr>\n",
       "      <th>whiplash curve</th>\n",
       "      <td>1</td>\n",
       "      <td>0</td>\n",
       "      <td>0</td>\n",
       "      <td>1</td>\n",
       "    </tr>\n",
       "    <tr>\n",
       "      <th>william mcdonald</th>\n",
       "      <td>1</td>\n",
       "      <td>0</td>\n",
       "      <td>0</td>\n",
       "      <td>1</td>\n",
       "    </tr>\n",
       "    <tr>\n",
       "      <th>zaphod beeblebrox</th>\n",
       "      <td>1</td>\n",
       "      <td>0</td>\n",
       "      <td>0</td>\n",
       "      <td>1</td>\n",
       "    </tr>\n",
       "    <tr>\n",
       "      <th>Total</th>\n",
       "      <td>85</td>\n",
       "      <td>0</td>\n",
       "      <td>3</td>\n",
       "      <td>88</td>\n",
       "    </tr>\n",
       "  </tbody>\n",
       "</table>\n",
       "</div>"
      ],
      "text/plain": [
       "                          politique  sport  culture  total\n",
       "nom                                                       \n",
       "val  studying for finals          1      0        0      1\n",
       "whiplash curve                    1      0        0      1\n",
       "william mcdonald                  1      0        0      1\n",
       "zaphod beeblebrox                 1      0        0      1\n",
       "Total                            85      0        3     88"
      ]
     },
     "execution_count": 48,
     "metadata": {
      "tags": []
     },
     "output_type": "execute_result"
    }
   ],
   "source": [
    "pivot_clusters = cluster_df.groupby(['nom']).sum()\n",
    "pivot_clusters['politique'] = pivot_clusters['politique'].astype(int)\n",
    "pivot_clusters['sport'] = pivot_clusters['sport'].astype(int)\n",
    "pivot_clusters['culture'] = pivot_clusters['culture'].astype(int)\n",
    "pivot_clusters['total'] = pivot_clusters['politique'] + pivot_clusters['sport'] + pivot_clusters['culture']\n",
    "pivot_clusters.loc[\"Total\"] = pivot_clusters.sum()  #add a totals row\n",
    "print(pivot_clusters.shape)\n",
    "pivot_clusters.tail()"
   ]
  },
  {
   "cell_type": "code",
   "execution_count": null,
   "metadata": {
    "id": "sGVjvXjgSowA"
   },
   "outputs": [],
   "source": []
  }
 ],
 "metadata": {
  "colab": {
   "name": "Untitled5.ipynb",
   "provenance": []
  },
  "kernelspec": {
   "display_name": "Python 3",
   "language": "python",
   "name": "python3"
  },
  "language_info": {
   "codemirror_mode": {
    "name": "ipython",
    "version": 3
   },
   "file_extension": ".py",
   "mimetype": "text/x-python",
   "name": "python",
   "nbconvert_exporter": "python",
   "pygments_lexer": "ipython3",
   "version": "3.8.3"
  }
 },
 "nbformat": 4,
 "nbformat_minor": 1
}
